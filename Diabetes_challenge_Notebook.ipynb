{
 "cells": [
  {
   "cell_type": "markdown",
   "id": "67c91c43",
   "metadata": {},
   "source": [
    "# 10 Years diabetes Challenge"
   ]
  },
  {
   "cell_type": "markdown",
   "id": "557a7a6f",
   "metadata": {},
   "source": [
    "# Zinhle Mjwara\n"
   ]
  },
  {
   "cell_type": "markdown",
   "id": "b844fe9c",
   "metadata": {},
   "source": [
    "<a id=\"cont\"></a>\n",
    "\n",
    "## Table of Contents\n",
    "\n",
    "<a href=#one>1. Importing Packages</a>\n",
    "\n",
    "<a href=#two>2. Loading Data</a>\n",
    "\n",
    "<a href=#three>3. Data Cleaning/Preprocessing</a>\n",
    "\n",
    "<a href=#four>4. Exploratory Data Analysis (EDA)</a>\n",
    "\n",
    "<a href=#five>5. Feauture Engineering</a>\n",
    "\n",
    "<a href=#six>6. Modelling Section</a>\n",
    "\n",
    "<a href=#seven>7. Conclusion </a>\n",
    "\n",
    "<a href=#eight>7. References </a>\n",
    "\n",
    "\n",
    "\n",
    "\n",
    "\n",
    "\n",
    "\n"
   ]
  },
  {
   "cell_type": "markdown",
   "id": "053aa859",
   "metadata": {},
   "source": []
  },
  {
   "cell_type": "markdown",
   "id": "68183ee3",
   "metadata": {},
   "source": [
    "## Brief Description of Data "
   ]
  },
  {
   "cell_type": "markdown",
   "id": "d5869ee8",
   "metadata": {},
   "source": [
    "The dataset encompasses 10 years (1999-2008) of clinical care data from 130 U.S. hospitals and integrated delivery networks, focusing on patient and hospital outcomes. Extracted from a larger database, this specific subset contains records of inpatient encounters that meet several criteria: the patient was hospitalized for a diabetic condition, the length of stay was between 1 and 14 days, laboratory tests were conducted, and medications were administered. The dataset includes over 50 features that provide detailed information on various aspects of the patient's hospital stay, offering a comprehensive view of diabetes-related clinical care.\n"
   ]
  },
  {
   "cell_type": "markdown",
   "id": "74fc4f42",
   "metadata": {},
   "source": [
    "The data contains such attributes as patient number, race, gender, age, admission type, time in hospital, medical specialty of admitting physician, number of lab test performed, HbA1c test result, diagnosis, number of medication, diabetic medications, number of outpatient, inpatient, and emergency visits in the year before the hospitalization, etc."
   ]
  },
  {
   "cell_type": "markdown",
   "id": "1528b22a",
   "metadata": {},
   "source": [
    " <a id=\"one\"></a>\n",
    "## 1. Importing Packages\n",
    "<a href=#cont>Back to Table of Contents</a>\n",
    "\n",
    "---\n",
    "    \n",
    "| ⚡ Description: Importing Packages ⚡ |\n",
    "| :--------------------------- |\n",
    "\n",
    "---"
   ]
  },
  {
   "cell_type": "code",
   "execution_count": 1,
   "id": "8ef9356e",
   "metadata": {},
   "outputs": [],
   "source": [
    "# pip install numpy"
   ]
  },
  {
   "cell_type": "code",
   "execution_count": 2,
   "id": "e8d72e95",
   "metadata": {},
   "outputs": [],
   "source": [
    "# pip install pandas\n"
   ]
  },
  {
   "cell_type": "code",
   "execution_count": 3,
   "id": "2abe3fda",
   "metadata": {},
   "outputs": [],
   "source": [
    "#libraries for importing and loading data\n",
    "import pandas as pd\n",
    "import numpy as np\n",
    "import matplotlib.pyplot as plt\n",
    "import seaborn as sns"
   ]
  },
  {
   "cell_type": "markdown",
   "id": "a14fa6ea",
   "metadata": {},
   "source": [
    "<a id=\"two\"></a>\n",
    "## 2. Loading the Data\n",
    "<a class=\"anchor\" id=\"1.1\"></a>\n",
    "<a href=#cont>Back to Table of Contents</a>\n",
    "\n",
    "---\n",
    "    \n",
    "| ⚡ Description: Loading the data ⚡ |\n",
    "| :--------------------------- |\n",
    "\n",
    "---"
   ]
  },
  {
   "cell_type": "code",
   "execution_count": 4,
   "id": "37b584f0",
   "metadata": {},
   "outputs": [],
   "source": [
    "#Loading the data set \n",
    "diabetes = pd.read_csv('diabetes.csv')"
   ]
  },
  {
   "cell_type": "markdown",
   "id": "9ac83aa7",
   "metadata": {},
   "source": [
    "# 3.Data Cleaning"
   ]
  },
  {
   "cell_type": "code",
   "execution_count": 5,
   "id": "f08101fc",
   "metadata": {},
   "outputs": [
    {
     "data": {
      "text/html": [
       "<div>\n",
       "<style scoped>\n",
       "    .dataframe tbody tr th:only-of-type {\n",
       "        vertical-align: middle;\n",
       "    }\n",
       "\n",
       "    .dataframe tbody tr th {\n",
       "        vertical-align: top;\n",
       "    }\n",
       "\n",
       "    .dataframe thead th {\n",
       "        text-align: right;\n",
       "    }\n",
       "</style>\n",
       "<table border=\"1\" class=\"dataframe\">\n",
       "  <thead>\n",
       "    <tr style=\"text-align: right;\">\n",
       "      <th></th>\n",
       "      <th>id</th>\n",
       "      <th>encounter_id</th>\n",
       "      <th>patient_nbr</th>\n",
       "      <th>race</th>\n",
       "      <th>gender</th>\n",
       "      <th>age</th>\n",
       "      <th>weight</th>\n",
       "      <th>admission_type_id</th>\n",
       "      <th>discharge_disposition_id</th>\n",
       "      <th>admission_source_id</th>\n",
       "      <th>...</th>\n",
       "      <th>citoglipton</th>\n",
       "      <th>insulin</th>\n",
       "      <th>glyburide.metformin</th>\n",
       "      <th>glipizide.metformin</th>\n",
       "      <th>glimepiride.pioglitazone</th>\n",
       "      <th>metformin.rosiglitazone</th>\n",
       "      <th>metformin.pioglitazone</th>\n",
       "      <th>change</th>\n",
       "      <th>diabetesMed</th>\n",
       "      <th>readmitted</th>\n",
       "    </tr>\n",
       "  </thead>\n",
       "  <tbody>\n",
       "    <tr>\n",
       "      <th>0</th>\n",
       "      <td>1</td>\n",
       "      <td>2278392</td>\n",
       "      <td>8222157</td>\n",
       "      <td>Caucasian</td>\n",
       "      <td>Female</td>\n",
       "      <td>[0-10)</td>\n",
       "      <td>?</td>\n",
       "      <td>6</td>\n",
       "      <td>25</td>\n",
       "      <td>1</td>\n",
       "      <td>...</td>\n",
       "      <td>No</td>\n",
       "      <td>No</td>\n",
       "      <td>No</td>\n",
       "      <td>No</td>\n",
       "      <td>No</td>\n",
       "      <td>No</td>\n",
       "      <td>No</td>\n",
       "      <td>No</td>\n",
       "      <td>No</td>\n",
       "      <td>NO</td>\n",
       "    </tr>\n",
       "    <tr>\n",
       "      <th>1</th>\n",
       "      <td>2</td>\n",
       "      <td>149190</td>\n",
       "      <td>55629189</td>\n",
       "      <td>Caucasian</td>\n",
       "      <td>Female</td>\n",
       "      <td>[10-20)</td>\n",
       "      <td>?</td>\n",
       "      <td>1</td>\n",
       "      <td>1</td>\n",
       "      <td>7</td>\n",
       "      <td>...</td>\n",
       "      <td>No</td>\n",
       "      <td>Up</td>\n",
       "      <td>No</td>\n",
       "      <td>No</td>\n",
       "      <td>No</td>\n",
       "      <td>No</td>\n",
       "      <td>No</td>\n",
       "      <td>Ch</td>\n",
       "      <td>Yes</td>\n",
       "      <td>&gt;30</td>\n",
       "    </tr>\n",
       "    <tr>\n",
       "      <th>2</th>\n",
       "      <td>3</td>\n",
       "      <td>64410</td>\n",
       "      <td>86047875</td>\n",
       "      <td>AfricanAmerican</td>\n",
       "      <td>Female</td>\n",
       "      <td>[20-30)</td>\n",
       "      <td>?</td>\n",
       "      <td>1</td>\n",
       "      <td>1</td>\n",
       "      <td>7</td>\n",
       "      <td>...</td>\n",
       "      <td>No</td>\n",
       "      <td>No</td>\n",
       "      <td>No</td>\n",
       "      <td>No</td>\n",
       "      <td>No</td>\n",
       "      <td>No</td>\n",
       "      <td>No</td>\n",
       "      <td>No</td>\n",
       "      <td>Yes</td>\n",
       "      <td>NO</td>\n",
       "    </tr>\n",
       "    <tr>\n",
       "      <th>3</th>\n",
       "      <td>4</td>\n",
       "      <td>500364</td>\n",
       "      <td>82442376</td>\n",
       "      <td>Caucasian</td>\n",
       "      <td>Male</td>\n",
       "      <td>[30-40)</td>\n",
       "      <td>?</td>\n",
       "      <td>1</td>\n",
       "      <td>1</td>\n",
       "      <td>7</td>\n",
       "      <td>...</td>\n",
       "      <td>No</td>\n",
       "      <td>Up</td>\n",
       "      <td>No</td>\n",
       "      <td>No</td>\n",
       "      <td>No</td>\n",
       "      <td>No</td>\n",
       "      <td>No</td>\n",
       "      <td>Ch</td>\n",
       "      <td>Yes</td>\n",
       "      <td>NO</td>\n",
       "    </tr>\n",
       "    <tr>\n",
       "      <th>4</th>\n",
       "      <td>5</td>\n",
       "      <td>16680</td>\n",
       "      <td>42519267</td>\n",
       "      <td>Caucasian</td>\n",
       "      <td>Male</td>\n",
       "      <td>[40-50)</td>\n",
       "      <td>?</td>\n",
       "      <td>1</td>\n",
       "      <td>1</td>\n",
       "      <td>7</td>\n",
       "      <td>...</td>\n",
       "      <td>No</td>\n",
       "      <td>Steady</td>\n",
       "      <td>No</td>\n",
       "      <td>No</td>\n",
       "      <td>No</td>\n",
       "      <td>No</td>\n",
       "      <td>No</td>\n",
       "      <td>Ch</td>\n",
       "      <td>Yes</td>\n",
       "      <td>NO</td>\n",
       "    </tr>\n",
       "  </tbody>\n",
       "</table>\n",
       "<p>5 rows × 51 columns</p>\n",
       "</div>"
      ],
      "text/plain": [
       "   id  encounter_id  patient_nbr             race  gender      age weight  \\\n",
       "0   1       2278392      8222157        Caucasian  Female   [0-10)      ?   \n",
       "1   2        149190     55629189        Caucasian  Female  [10-20)      ?   \n",
       "2   3         64410     86047875  AfricanAmerican  Female  [20-30)      ?   \n",
       "3   4        500364     82442376        Caucasian    Male  [30-40)      ?   \n",
       "4   5         16680     42519267        Caucasian    Male  [40-50)      ?   \n",
       "\n",
       "   admission_type_id  discharge_disposition_id  admission_source_id  ...  \\\n",
       "0                  6                        25                    1  ...   \n",
       "1                  1                         1                    7  ...   \n",
       "2                  1                         1                    7  ...   \n",
       "3                  1                         1                    7  ...   \n",
       "4                  1                         1                    7  ...   \n",
       "\n",
       "   citoglipton insulin glyburide.metformin  glipizide.metformin  \\\n",
       "0           No      No                  No                   No   \n",
       "1           No      Up                  No                   No   \n",
       "2           No      No                  No                   No   \n",
       "3           No      Up                  No                   No   \n",
       "4           No  Steady                  No                   No   \n",
       "\n",
       "   glimepiride.pioglitazone  metformin.rosiglitazone  metformin.pioglitazone  \\\n",
       "0                        No                       No                      No   \n",
       "1                        No                       No                      No   \n",
       "2                        No                       No                      No   \n",
       "3                        No                       No                      No   \n",
       "4                        No                       No                      No   \n",
       "\n",
       "   change  diabetesMed readmitted  \n",
       "0      No           No         NO  \n",
       "1      Ch          Yes        >30  \n",
       "2      No          Yes         NO  \n",
       "3      Ch          Yes         NO  \n",
       "4      Ch          Yes         NO  \n",
       "\n",
       "[5 rows x 51 columns]"
      ]
     },
     "execution_count": 5,
     "metadata": {},
     "output_type": "execute_result"
    }
   ],
   "source": [
    "diabetes.head()"
   ]
  },
  {
   "cell_type": "markdown",
   "id": "0345864c",
   "metadata": {},
   "source": [
    "diabetes_copy.head().T creates a copy of the diabetes dataset, shows the first 5 rows of this copy, and then transposes it to display the data in a different orientation for easier inspection."
   ]
  },
  {
   "cell_type": "code",
   "execution_count": 6,
   "id": "04763cfe",
   "metadata": {},
   "outputs": [
    {
     "data": {
      "text/html": [
       "<div>\n",
       "<style scoped>\n",
       "    .dataframe tbody tr th:only-of-type {\n",
       "        vertical-align: middle;\n",
       "    }\n",
       "\n",
       "    .dataframe tbody tr th {\n",
       "        vertical-align: top;\n",
       "    }\n",
       "\n",
       "    .dataframe thead th {\n",
       "        text-align: right;\n",
       "    }\n",
       "</style>\n",
       "<table border=\"1\" class=\"dataframe\">\n",
       "  <thead>\n",
       "    <tr style=\"text-align: right;\">\n",
       "      <th></th>\n",
       "      <th>count</th>\n",
       "      <th>mean</th>\n",
       "      <th>std</th>\n",
       "      <th>min</th>\n",
       "      <th>25%</th>\n",
       "      <th>50%</th>\n",
       "      <th>75%</th>\n",
       "      <th>max</th>\n",
       "    </tr>\n",
       "  </thead>\n",
       "  <tbody>\n",
       "    <tr>\n",
       "      <th>id</th>\n",
       "      <td>101766.0</td>\n",
       "      <td>5.088350e+04</td>\n",
       "      <td>2.937746e+04</td>\n",
       "      <td>1.0</td>\n",
       "      <td>25442.25</td>\n",
       "      <td>50883.5</td>\n",
       "      <td>7.632475e+04</td>\n",
       "      <td>101766.0</td>\n",
       "    </tr>\n",
       "    <tr>\n",
       "      <th>encounter_id</th>\n",
       "      <td>101766.0</td>\n",
       "      <td>1.652016e+08</td>\n",
       "      <td>1.026403e+08</td>\n",
       "      <td>12522.0</td>\n",
       "      <td>84961194.00</td>\n",
       "      <td>152388987.0</td>\n",
       "      <td>2.302709e+08</td>\n",
       "      <td>443867222.0</td>\n",
       "    </tr>\n",
       "    <tr>\n",
       "      <th>patient_nbr</th>\n",
       "      <td>101766.0</td>\n",
       "      <td>5.433040e+07</td>\n",
       "      <td>3.869636e+07</td>\n",
       "      <td>135.0</td>\n",
       "      <td>23413221.00</td>\n",
       "      <td>45505143.0</td>\n",
       "      <td>8.754595e+07</td>\n",
       "      <td>189502619.0</td>\n",
       "    </tr>\n",
       "    <tr>\n",
       "      <th>admission_type_id</th>\n",
       "      <td>101766.0</td>\n",
       "      <td>2.024006e+00</td>\n",
       "      <td>1.445403e+00</td>\n",
       "      <td>1.0</td>\n",
       "      <td>1.00</td>\n",
       "      <td>1.0</td>\n",
       "      <td>3.000000e+00</td>\n",
       "      <td>8.0</td>\n",
       "    </tr>\n",
       "    <tr>\n",
       "      <th>discharge_disposition_id</th>\n",
       "      <td>101766.0</td>\n",
       "      <td>3.715642e+00</td>\n",
       "      <td>5.280166e+00</td>\n",
       "      <td>1.0</td>\n",
       "      <td>1.00</td>\n",
       "      <td>1.0</td>\n",
       "      <td>4.000000e+00</td>\n",
       "      <td>28.0</td>\n",
       "    </tr>\n",
       "    <tr>\n",
       "      <th>admission_source_id</th>\n",
       "      <td>101766.0</td>\n",
       "      <td>5.754437e+00</td>\n",
       "      <td>4.064081e+00</td>\n",
       "      <td>1.0</td>\n",
       "      <td>1.00</td>\n",
       "      <td>7.0</td>\n",
       "      <td>7.000000e+00</td>\n",
       "      <td>25.0</td>\n",
       "    </tr>\n",
       "    <tr>\n",
       "      <th>time_in_hospital</th>\n",
       "      <td>101766.0</td>\n",
       "      <td>4.395987e+00</td>\n",
       "      <td>2.985108e+00</td>\n",
       "      <td>1.0</td>\n",
       "      <td>2.00</td>\n",
       "      <td>4.0</td>\n",
       "      <td>6.000000e+00</td>\n",
       "      <td>14.0</td>\n",
       "    </tr>\n",
       "    <tr>\n",
       "      <th>num_lab_procedures</th>\n",
       "      <td>101766.0</td>\n",
       "      <td>4.309564e+01</td>\n",
       "      <td>1.967436e+01</td>\n",
       "      <td>1.0</td>\n",
       "      <td>31.00</td>\n",
       "      <td>44.0</td>\n",
       "      <td>5.700000e+01</td>\n",
       "      <td>132.0</td>\n",
       "    </tr>\n",
       "    <tr>\n",
       "      <th>num_procedures</th>\n",
       "      <td>101766.0</td>\n",
       "      <td>1.339730e+00</td>\n",
       "      <td>1.705807e+00</td>\n",
       "      <td>0.0</td>\n",
       "      <td>0.00</td>\n",
       "      <td>1.0</td>\n",
       "      <td>2.000000e+00</td>\n",
       "      <td>6.0</td>\n",
       "    </tr>\n",
       "    <tr>\n",
       "      <th>num_medications</th>\n",
       "      <td>101766.0</td>\n",
       "      <td>1.602184e+01</td>\n",
       "      <td>8.127566e+00</td>\n",
       "      <td>1.0</td>\n",
       "      <td>10.00</td>\n",
       "      <td>15.0</td>\n",
       "      <td>2.000000e+01</td>\n",
       "      <td>81.0</td>\n",
       "    </tr>\n",
       "    <tr>\n",
       "      <th>number_outpatient</th>\n",
       "      <td>101766.0</td>\n",
       "      <td>3.693572e-01</td>\n",
       "      <td>1.267265e+00</td>\n",
       "      <td>0.0</td>\n",
       "      <td>0.00</td>\n",
       "      <td>0.0</td>\n",
       "      <td>0.000000e+00</td>\n",
       "      <td>42.0</td>\n",
       "    </tr>\n",
       "    <tr>\n",
       "      <th>number_emergency</th>\n",
       "      <td>101766.0</td>\n",
       "      <td>1.978362e-01</td>\n",
       "      <td>9.304723e-01</td>\n",
       "      <td>0.0</td>\n",
       "      <td>0.00</td>\n",
       "      <td>0.0</td>\n",
       "      <td>0.000000e+00</td>\n",
       "      <td>76.0</td>\n",
       "    </tr>\n",
       "    <tr>\n",
       "      <th>number_inpatient</th>\n",
       "      <td>101766.0</td>\n",
       "      <td>6.355659e-01</td>\n",
       "      <td>1.262863e+00</td>\n",
       "      <td>0.0</td>\n",
       "      <td>0.00</td>\n",
       "      <td>0.0</td>\n",
       "      <td>1.000000e+00</td>\n",
       "      <td>21.0</td>\n",
       "    </tr>\n",
       "    <tr>\n",
       "      <th>number_diagnoses</th>\n",
       "      <td>101766.0</td>\n",
       "      <td>7.422607e+00</td>\n",
       "      <td>1.933600e+00</td>\n",
       "      <td>1.0</td>\n",
       "      <td>6.00</td>\n",
       "      <td>8.0</td>\n",
       "      <td>9.000000e+00</td>\n",
       "      <td>16.0</td>\n",
       "    </tr>\n",
       "  </tbody>\n",
       "</table>\n",
       "</div>"
      ],
      "text/plain": [
       "                             count          mean           std      min  \\\n",
       "id                        101766.0  5.088350e+04  2.937746e+04      1.0   \n",
       "encounter_id              101766.0  1.652016e+08  1.026403e+08  12522.0   \n",
       "patient_nbr               101766.0  5.433040e+07  3.869636e+07    135.0   \n",
       "admission_type_id         101766.0  2.024006e+00  1.445403e+00      1.0   \n",
       "discharge_disposition_id  101766.0  3.715642e+00  5.280166e+00      1.0   \n",
       "admission_source_id       101766.0  5.754437e+00  4.064081e+00      1.0   \n",
       "time_in_hospital          101766.0  4.395987e+00  2.985108e+00      1.0   \n",
       "num_lab_procedures        101766.0  4.309564e+01  1.967436e+01      1.0   \n",
       "num_procedures            101766.0  1.339730e+00  1.705807e+00      0.0   \n",
       "num_medications           101766.0  1.602184e+01  8.127566e+00      1.0   \n",
       "number_outpatient         101766.0  3.693572e-01  1.267265e+00      0.0   \n",
       "number_emergency          101766.0  1.978362e-01  9.304723e-01      0.0   \n",
       "number_inpatient          101766.0  6.355659e-01  1.262863e+00      0.0   \n",
       "number_diagnoses          101766.0  7.422607e+00  1.933600e+00      1.0   \n",
       "\n",
       "                                  25%          50%           75%          max  \n",
       "id                           25442.25      50883.5  7.632475e+04     101766.0  \n",
       "encounter_id              84961194.00  152388987.0  2.302709e+08  443867222.0  \n",
       "patient_nbr               23413221.00   45505143.0  8.754595e+07  189502619.0  \n",
       "admission_type_id                1.00          1.0  3.000000e+00          8.0  \n",
       "discharge_disposition_id         1.00          1.0  4.000000e+00         28.0  \n",
       "admission_source_id              1.00          7.0  7.000000e+00         25.0  \n",
       "time_in_hospital                 2.00          4.0  6.000000e+00         14.0  \n",
       "num_lab_procedures              31.00         44.0  5.700000e+01        132.0  \n",
       "num_procedures                   0.00          1.0  2.000000e+00          6.0  \n",
       "num_medications                 10.00         15.0  2.000000e+01         81.0  \n",
       "number_outpatient                0.00          0.0  0.000000e+00         42.0  \n",
       "number_emergency                 0.00          0.0  0.000000e+00         76.0  \n",
       "number_inpatient                 0.00          0.0  1.000000e+00         21.0  \n",
       "number_diagnoses                 6.00          8.0  9.000000e+00         16.0  "
      ]
     },
     "execution_count": 6,
     "metadata": {},
     "output_type": "execute_result"
    }
   ],
   "source": [
    "# Statistical summary\n",
    "diabetes.describe().T"
   ]
  },
  {
   "cell_type": "code",
   "execution_count": 7,
   "id": "ad709174",
   "metadata": {},
   "outputs": [],
   "source": [
    "diabetes = diabetes.replace(\"?\", np.NaN, )\n"
   ]
  },
  {
   "cell_type": "code",
   "execution_count": 8,
   "id": "b829dd00",
   "metadata": {},
   "outputs": [
    {
     "name": "stdout",
     "output_type": "stream",
     "text": [
      "<class 'pandas.core.frame.DataFrame'>\n",
      "RangeIndex: 101766 entries, 0 to 101765\n",
      "Data columns (total 51 columns):\n",
      " #   Column                    Non-Null Count   Dtype \n",
      "---  ------                    --------------   ----- \n",
      " 0   id                        101766 non-null  int64 \n",
      " 1   encounter_id              101766 non-null  int64 \n",
      " 2   patient_nbr               101766 non-null  int64 \n",
      " 3   race                      99493 non-null   object\n",
      " 4   gender                    101766 non-null  object\n",
      " 5   age                       101766 non-null  object\n",
      " 6   weight                    3197 non-null    object\n",
      " 7   admission_type_id         101766 non-null  int64 \n",
      " 8   discharge_disposition_id  101766 non-null  int64 \n",
      " 9   admission_source_id       101766 non-null  int64 \n",
      " 10  time_in_hospital          101766 non-null  int64 \n",
      " 11  payer_code                61510 non-null   object\n",
      " 12  medical_specialty         51817 non-null   object\n",
      " 13  num_lab_procedures        101766 non-null  int64 \n",
      " 14  num_procedures            101766 non-null  int64 \n",
      " 15  num_medications           101766 non-null  int64 \n",
      " 16  number_outpatient         101766 non-null  int64 \n",
      " 17  number_emergency          101766 non-null  int64 \n",
      " 18  number_inpatient          101766 non-null  int64 \n",
      " 19  diag_1                    101745 non-null  object\n",
      " 20  diag_2                    101408 non-null  object\n",
      " 21  diag_3                    100343 non-null  object\n",
      " 22  number_diagnoses          101766 non-null  int64 \n",
      " 23  max_glu_serum             101766 non-null  object\n",
      " 24  A1Cresult                 101766 non-null  object\n",
      " 25  metformin                 101766 non-null  object\n",
      " 26  repaglinide               101766 non-null  object\n",
      " 27  nateglinide               101766 non-null  object\n",
      " 28  chlorpropamide            101766 non-null  object\n",
      " 29  glimepiride               101766 non-null  object\n",
      " 30  acetohexamide             101766 non-null  object\n",
      " 31  glipizide                 101766 non-null  object\n",
      " 32  glyburide                 101766 non-null  object\n",
      " 33  tolbutamide               101766 non-null  object\n",
      " 34  pioglitazone              101766 non-null  object\n",
      " 35  rosiglitazone             101766 non-null  object\n",
      " 36  acarbose                  101766 non-null  object\n",
      " 37  miglitol                  101766 non-null  object\n",
      " 38  troglitazone              101766 non-null  object\n",
      " 39  tolazamide                101766 non-null  object\n",
      " 40  examide                   101766 non-null  object\n",
      " 41  citoglipton               101766 non-null  object\n",
      " 42  insulin                   101766 non-null  object\n",
      " 43  glyburide.metformin       101766 non-null  object\n",
      " 44  glipizide.metformin       101766 non-null  object\n",
      " 45  glimepiride.pioglitazone  101766 non-null  object\n",
      " 46  metformin.rosiglitazone   101766 non-null  object\n",
      " 47  metformin.pioglitazone    101766 non-null  object\n",
      " 48  change                    101766 non-null  object\n",
      " 49  diabetesMed               101766 non-null  object\n",
      " 50  readmitted                101766 non-null  object\n",
      "dtypes: int64(14), object(37)\n",
      "memory usage: 39.6+ MB\n"
     ]
    }
   ],
   "source": [
    "diabetes.info()\n"
   ]
  },
  {
   "cell_type": "code",
   "execution_count": 9,
   "id": "4ab9b701",
   "metadata": {},
   "outputs": [
    {
     "data": {
      "text/plain": [
       "id                              0\n",
       "encounter_id                    0\n",
       "patient_nbr                     0\n",
       "race                         2273\n",
       "gender                          0\n",
       "age                             0\n",
       "weight                      98569\n",
       "admission_type_id               0\n",
       "discharge_disposition_id        0\n",
       "admission_source_id             0\n",
       "time_in_hospital                0\n",
       "payer_code                  40256\n",
       "medical_specialty           49949\n",
       "num_lab_procedures              0\n",
       "num_procedures                  0\n",
       "num_medications                 0\n",
       "number_outpatient               0\n",
       "number_emergency                0\n",
       "number_inpatient                0\n",
       "diag_1                         21\n",
       "diag_2                        358\n",
       "diag_3                       1423\n",
       "number_diagnoses                0\n",
       "max_glu_serum                   0\n",
       "A1Cresult                       0\n",
       "metformin                       0\n",
       "repaglinide                     0\n",
       "nateglinide                     0\n",
       "chlorpropamide                  0\n",
       "glimepiride                     0\n",
       "acetohexamide                   0\n",
       "glipizide                       0\n",
       "glyburide                       0\n",
       "tolbutamide                     0\n",
       "pioglitazone                    0\n",
       "rosiglitazone                   0\n",
       "acarbose                        0\n",
       "miglitol                        0\n",
       "troglitazone                    0\n",
       "tolazamide                      0\n",
       "examide                         0\n",
       "citoglipton                     0\n",
       "insulin                         0\n",
       "glyburide.metformin             0\n",
       "glipizide.metformin             0\n",
       "glimepiride.pioglitazone        0\n",
       "metformin.rosiglitazone         0\n",
       "metformin.pioglitazone          0\n",
       "change                          0\n",
       "diabetesMed                     0\n",
       "readmitted                      0\n",
       "dtype: int64"
      ]
     },
     "execution_count": 9,
     "metadata": {},
     "output_type": "execute_result"
    }
   ],
   "source": [
    "diabetes.isnull().sum()"
   ]
  },
  {
   "cell_type": "code",
   "execution_count": 10,
   "id": "c0c981da",
   "metadata": {},
   "outputs": [
    {
     "data": {
      "text/plain": [
       "0               Caucasian\n",
       "1               Caucasian\n",
       "2         AfricanAmerican\n",
       "3               Caucasian\n",
       "4               Caucasian\n",
       "               ...       \n",
       "101761    AfricanAmerican\n",
       "101762    AfricanAmerican\n",
       "101763          Caucasian\n",
       "101764          Caucasian\n",
       "101765          Caucasian\n",
       "Name: race, Length: 101766, dtype: object"
      ]
     },
     "execution_count": 10,
     "metadata": {},
     "output_type": "execute_result"
    }
   ],
   "source": [
    "diabetes[\"race\"]"
   ]
  },
  {
   "cell_type": "code",
   "execution_count": 11,
   "id": "9853096b",
   "metadata": {},
   "outputs": [],
   "source": [
    "#Replacing missing race with previous value – Forward fill\n",
    "\n",
    "diabetes = diabetes.where(~diabetes.race.isnull(), diabetes.fillna(axis=0, method='ffill'))"
   ]
  },
  {
   "cell_type": "code",
   "execution_count": 12,
   "id": "8bdb9526",
   "metadata": {},
   "outputs": [
    {
     "data": {
      "text/html": [
       "<div>\n",
       "<style scoped>\n",
       "    .dataframe tbody tr th:only-of-type {\n",
       "        vertical-align: middle;\n",
       "    }\n",
       "\n",
       "    .dataframe tbody tr th {\n",
       "        vertical-align: top;\n",
       "    }\n",
       "\n",
       "    .dataframe thead th {\n",
       "        text-align: right;\n",
       "    }\n",
       "</style>\n",
       "<table border=\"1\" class=\"dataframe\">\n",
       "  <thead>\n",
       "    <tr style=\"text-align: right;\">\n",
       "      <th></th>\n",
       "      <th>id</th>\n",
       "      <th>encounter_id</th>\n",
       "      <th>patient_nbr</th>\n",
       "      <th>race</th>\n",
       "      <th>gender</th>\n",
       "      <th>age</th>\n",
       "      <th>weight</th>\n",
       "      <th>admission_type_id</th>\n",
       "      <th>discharge_disposition_id</th>\n",
       "      <th>admission_source_id</th>\n",
       "      <th>...</th>\n",
       "      <th>citoglipton</th>\n",
       "      <th>insulin</th>\n",
       "      <th>glyburide.metformin</th>\n",
       "      <th>glipizide.metformin</th>\n",
       "      <th>glimepiride.pioglitazone</th>\n",
       "      <th>metformin.rosiglitazone</th>\n",
       "      <th>metformin.pioglitazone</th>\n",
       "      <th>change</th>\n",
       "      <th>diabetesMed</th>\n",
       "      <th>readmitted</th>\n",
       "    </tr>\n",
       "  </thead>\n",
       "  <tbody>\n",
       "    <tr>\n",
       "      <th>0</th>\n",
       "      <td>1</td>\n",
       "      <td>2278392</td>\n",
       "      <td>8222157</td>\n",
       "      <td>Caucasian</td>\n",
       "      <td>Female</td>\n",
       "      <td>[0-10)</td>\n",
       "      <td>NaN</td>\n",
       "      <td>6</td>\n",
       "      <td>25</td>\n",
       "      <td>1</td>\n",
       "      <td>...</td>\n",
       "      <td>No</td>\n",
       "      <td>No</td>\n",
       "      <td>No</td>\n",
       "      <td>No</td>\n",
       "      <td>No</td>\n",
       "      <td>No</td>\n",
       "      <td>No</td>\n",
       "      <td>No</td>\n",
       "      <td>No</td>\n",
       "      <td>NO</td>\n",
       "    </tr>\n",
       "    <tr>\n",
       "      <th>1</th>\n",
       "      <td>2</td>\n",
       "      <td>149190</td>\n",
       "      <td>55629189</td>\n",
       "      <td>Caucasian</td>\n",
       "      <td>Female</td>\n",
       "      <td>[10-20)</td>\n",
       "      <td>NaN</td>\n",
       "      <td>1</td>\n",
       "      <td>1</td>\n",
       "      <td>7</td>\n",
       "      <td>...</td>\n",
       "      <td>No</td>\n",
       "      <td>Up</td>\n",
       "      <td>No</td>\n",
       "      <td>No</td>\n",
       "      <td>No</td>\n",
       "      <td>No</td>\n",
       "      <td>No</td>\n",
       "      <td>Ch</td>\n",
       "      <td>Yes</td>\n",
       "      <td>&gt;30</td>\n",
       "    </tr>\n",
       "    <tr>\n",
       "      <th>2</th>\n",
       "      <td>3</td>\n",
       "      <td>64410</td>\n",
       "      <td>86047875</td>\n",
       "      <td>AfricanAmerican</td>\n",
       "      <td>Female</td>\n",
       "      <td>[20-30)</td>\n",
       "      <td>NaN</td>\n",
       "      <td>1</td>\n",
       "      <td>1</td>\n",
       "      <td>7</td>\n",
       "      <td>...</td>\n",
       "      <td>No</td>\n",
       "      <td>No</td>\n",
       "      <td>No</td>\n",
       "      <td>No</td>\n",
       "      <td>No</td>\n",
       "      <td>No</td>\n",
       "      <td>No</td>\n",
       "      <td>No</td>\n",
       "      <td>Yes</td>\n",
       "      <td>NO</td>\n",
       "    </tr>\n",
       "    <tr>\n",
       "      <th>3</th>\n",
       "      <td>4</td>\n",
       "      <td>500364</td>\n",
       "      <td>82442376</td>\n",
       "      <td>Caucasian</td>\n",
       "      <td>Male</td>\n",
       "      <td>[30-40)</td>\n",
       "      <td>NaN</td>\n",
       "      <td>1</td>\n",
       "      <td>1</td>\n",
       "      <td>7</td>\n",
       "      <td>...</td>\n",
       "      <td>No</td>\n",
       "      <td>Up</td>\n",
       "      <td>No</td>\n",
       "      <td>No</td>\n",
       "      <td>No</td>\n",
       "      <td>No</td>\n",
       "      <td>No</td>\n",
       "      <td>Ch</td>\n",
       "      <td>Yes</td>\n",
       "      <td>NO</td>\n",
       "    </tr>\n",
       "    <tr>\n",
       "      <th>4</th>\n",
       "      <td>5</td>\n",
       "      <td>16680</td>\n",
       "      <td>42519267</td>\n",
       "      <td>Caucasian</td>\n",
       "      <td>Male</td>\n",
       "      <td>[40-50)</td>\n",
       "      <td>NaN</td>\n",
       "      <td>1</td>\n",
       "      <td>1</td>\n",
       "      <td>7</td>\n",
       "      <td>...</td>\n",
       "      <td>No</td>\n",
       "      <td>Steady</td>\n",
       "      <td>No</td>\n",
       "      <td>No</td>\n",
       "      <td>No</td>\n",
       "      <td>No</td>\n",
       "      <td>No</td>\n",
       "      <td>Ch</td>\n",
       "      <td>Yes</td>\n",
       "      <td>NO</td>\n",
       "    </tr>\n",
       "  </tbody>\n",
       "</table>\n",
       "<p>5 rows × 51 columns</p>\n",
       "</div>"
      ],
      "text/plain": [
       "   id  encounter_id  patient_nbr             race  gender      age weight  \\\n",
       "0   1       2278392      8222157        Caucasian  Female   [0-10)    NaN   \n",
       "1   2        149190     55629189        Caucasian  Female  [10-20)    NaN   \n",
       "2   3         64410     86047875  AfricanAmerican  Female  [20-30)    NaN   \n",
       "3   4        500364     82442376        Caucasian    Male  [30-40)    NaN   \n",
       "4   5         16680     42519267        Caucasian    Male  [40-50)    NaN   \n",
       "\n",
       "   admission_type_id  discharge_disposition_id  admission_source_id  ...  \\\n",
       "0                  6                        25                    1  ...   \n",
       "1                  1                         1                    7  ...   \n",
       "2                  1                         1                    7  ...   \n",
       "3                  1                         1                    7  ...   \n",
       "4                  1                         1                    7  ...   \n",
       "\n",
       "   citoglipton insulin glyburide.metformin  glipizide.metformin  \\\n",
       "0           No      No                  No                   No   \n",
       "1           No      Up                  No                   No   \n",
       "2           No      No                  No                   No   \n",
       "3           No      Up                  No                   No   \n",
       "4           No  Steady                  No                   No   \n",
       "\n",
       "   glimepiride.pioglitazone  metformin.rosiglitazone  metformin.pioglitazone  \\\n",
       "0                        No                       No                      No   \n",
       "1                        No                       No                      No   \n",
       "2                        No                       No                      No   \n",
       "3                        No                       No                      No   \n",
       "4                        No                       No                      No   \n",
       "\n",
       "   change  diabetesMed readmitted  \n",
       "0      No           No         NO  \n",
       "1      Ch          Yes        >30  \n",
       "2      No          Yes         NO  \n",
       "3      Ch          Yes         NO  \n",
       "4      Ch          Yes         NO  \n",
       "\n",
       "[5 rows x 51 columns]"
      ]
     },
     "execution_count": 12,
     "metadata": {},
     "output_type": "execute_result"
    }
   ],
   "source": [
    "diabetes.head()"
   ]
  },
  {
   "cell_type": "code",
   "execution_count": 13,
   "id": "250b1a06",
   "metadata": {},
   "outputs": [],
   "source": [
    "count = (diabetes[\"race\"] == \"?\").sum()\n"
   ]
  },
  {
   "cell_type": "code",
   "execution_count": 14,
   "id": "84a79dbd",
   "metadata": {},
   "outputs": [],
   "source": [
    "diabetes['weight'] = diabetes['weight'].fillna(diabetes['weight'].mode()[0])\n"
   ]
  },
  {
   "cell_type": "code",
   "execution_count": 15,
   "id": "d0ba9331",
   "metadata": {},
   "outputs": [],
   "source": [
    "diabetes = diabetes.where(~diabetes.payer_code.isnull(), diabetes.fillna(axis=0, method='ffill'))\n"
   ]
  },
  {
   "cell_type": "code",
   "execution_count": 16,
   "id": "bd24cef0",
   "metadata": {},
   "outputs": [],
   "source": [
    "diabetes = diabetes.where(~diabetes.medical_specialty.isnull(), diabetes.fillna(axis=0, method='ffill'))\n"
   ]
  },
  {
   "cell_type": "code",
   "execution_count": 17,
   "id": "78e54b0f",
   "metadata": {},
   "outputs": [],
   "source": [
    "diabetes = diabetes.where(~diabetes.diag_1.isnull(), diabetes.fillna(axis=0, method='ffill'))\n",
    "diabetes = diabetes.where(~diabetes.diag_2.isnull(), diabetes.fillna(axis=0, method='ffill'))\n",
    "diabetes = diabetes.where(~diabetes.diag_3.isnull(), diabetes.fillna(axis=0, method='ffill'))\n"
   ]
  },
  {
   "cell_type": "markdown",
   "id": "21f42d66",
   "metadata": {},
   "source": [
    "<a id=\"three\"></a>\n",
    "## 4. Exploratory Data Analysis (EDA)\n",
    "<a class=\"anchor\" id=\"1.1\"></a>\n",
    "<a href=#cont>Back to Table of Contents</a>\n",
    "\n",
    "---\n",
    "    \n",
    "| ⚡ Description: Exploratory data analysis ⚡ |\n",
    "| :--------------------------- |\n",
    "\n",
    "---\n"
   ]
  },
  {
   "cell_type": "markdown",
   "id": "6a10613d",
   "metadata": {},
   "source": [
    "Data visualization/ the EDA section helps to understand the data better by putting it in a visual form. In this phase, data are represented in the form of bar charts, line graph and pie charts. The analysis reveals the percentage of people affected by diabetes diseases. It also displays the information of the data set such as race, gender, age, and number of patients that are taking medication etc, and comments on the main findings."
   ]
  },
  {
   "cell_type": "code",
   "execution_count": 18,
   "id": "b2c4d831",
   "metadata": {},
   "outputs": [
    {
     "data": {
      "text/html": [
       "<div>\n",
       "<style scoped>\n",
       "    .dataframe tbody tr th:only-of-type {\n",
       "        vertical-align: middle;\n",
       "    }\n",
       "\n",
       "    .dataframe tbody tr th {\n",
       "        vertical-align: top;\n",
       "    }\n",
       "\n",
       "    .dataframe thead th {\n",
       "        text-align: right;\n",
       "    }\n",
       "</style>\n",
       "<table border=\"1\" class=\"dataframe\">\n",
       "  <thead>\n",
       "    <tr style=\"text-align: right;\">\n",
       "      <th></th>\n",
       "      <th>id</th>\n",
       "      <th>encounter_id</th>\n",
       "      <th>patient_nbr</th>\n",
       "      <th>race</th>\n",
       "      <th>gender</th>\n",
       "      <th>age</th>\n",
       "      <th>weight</th>\n",
       "      <th>admission_type_id</th>\n",
       "      <th>discharge_disposition_id</th>\n",
       "      <th>admission_source_id</th>\n",
       "      <th>...</th>\n",
       "      <th>citoglipton</th>\n",
       "      <th>insulin</th>\n",
       "      <th>glyburide.metformin</th>\n",
       "      <th>glipizide.metformin</th>\n",
       "      <th>glimepiride.pioglitazone</th>\n",
       "      <th>metformin.rosiglitazone</th>\n",
       "      <th>metformin.pioglitazone</th>\n",
       "      <th>change</th>\n",
       "      <th>diabetesMed</th>\n",
       "      <th>readmitted</th>\n",
       "    </tr>\n",
       "  </thead>\n",
       "  <tbody>\n",
       "    <tr>\n",
       "      <th>0</th>\n",
       "      <td>1</td>\n",
       "      <td>2278392</td>\n",
       "      <td>8222157</td>\n",
       "      <td>Caucasian</td>\n",
       "      <td>Female</td>\n",
       "      <td>[0-10)</td>\n",
       "      <td>[75-100)</td>\n",
       "      <td>6</td>\n",
       "      <td>25</td>\n",
       "      <td>1</td>\n",
       "      <td>...</td>\n",
       "      <td>No</td>\n",
       "      <td>No</td>\n",
       "      <td>No</td>\n",
       "      <td>No</td>\n",
       "      <td>No</td>\n",
       "      <td>No</td>\n",
       "      <td>No</td>\n",
       "      <td>No</td>\n",
       "      <td>No</td>\n",
       "      <td>NO</td>\n",
       "    </tr>\n",
       "    <tr>\n",
       "      <th>1</th>\n",
       "      <td>2</td>\n",
       "      <td>149190</td>\n",
       "      <td>55629189</td>\n",
       "      <td>Caucasian</td>\n",
       "      <td>Female</td>\n",
       "      <td>[10-20)</td>\n",
       "      <td>[75-100)</td>\n",
       "      <td>1</td>\n",
       "      <td>1</td>\n",
       "      <td>7</td>\n",
       "      <td>...</td>\n",
       "      <td>No</td>\n",
       "      <td>Up</td>\n",
       "      <td>No</td>\n",
       "      <td>No</td>\n",
       "      <td>No</td>\n",
       "      <td>No</td>\n",
       "      <td>No</td>\n",
       "      <td>Ch</td>\n",
       "      <td>Yes</td>\n",
       "      <td>&gt;30</td>\n",
       "    </tr>\n",
       "    <tr>\n",
       "      <th>2</th>\n",
       "      <td>3</td>\n",
       "      <td>64410</td>\n",
       "      <td>86047875</td>\n",
       "      <td>AfricanAmerican</td>\n",
       "      <td>Female</td>\n",
       "      <td>[20-30)</td>\n",
       "      <td>[75-100)</td>\n",
       "      <td>1</td>\n",
       "      <td>1</td>\n",
       "      <td>7</td>\n",
       "      <td>...</td>\n",
       "      <td>No</td>\n",
       "      <td>No</td>\n",
       "      <td>No</td>\n",
       "      <td>No</td>\n",
       "      <td>No</td>\n",
       "      <td>No</td>\n",
       "      <td>No</td>\n",
       "      <td>No</td>\n",
       "      <td>Yes</td>\n",
       "      <td>NO</td>\n",
       "    </tr>\n",
       "    <tr>\n",
       "      <th>3</th>\n",
       "      <td>4</td>\n",
       "      <td>500364</td>\n",
       "      <td>82442376</td>\n",
       "      <td>Caucasian</td>\n",
       "      <td>Male</td>\n",
       "      <td>[30-40)</td>\n",
       "      <td>[75-100)</td>\n",
       "      <td>1</td>\n",
       "      <td>1</td>\n",
       "      <td>7</td>\n",
       "      <td>...</td>\n",
       "      <td>No</td>\n",
       "      <td>Up</td>\n",
       "      <td>No</td>\n",
       "      <td>No</td>\n",
       "      <td>No</td>\n",
       "      <td>No</td>\n",
       "      <td>No</td>\n",
       "      <td>Ch</td>\n",
       "      <td>Yes</td>\n",
       "      <td>NO</td>\n",
       "    </tr>\n",
       "    <tr>\n",
       "      <th>4</th>\n",
       "      <td>5</td>\n",
       "      <td>16680</td>\n",
       "      <td>42519267</td>\n",
       "      <td>Caucasian</td>\n",
       "      <td>Male</td>\n",
       "      <td>[40-50)</td>\n",
       "      <td>[75-100)</td>\n",
       "      <td>1</td>\n",
       "      <td>1</td>\n",
       "      <td>7</td>\n",
       "      <td>...</td>\n",
       "      <td>No</td>\n",
       "      <td>Steady</td>\n",
       "      <td>No</td>\n",
       "      <td>No</td>\n",
       "      <td>No</td>\n",
       "      <td>No</td>\n",
       "      <td>No</td>\n",
       "      <td>Ch</td>\n",
       "      <td>Yes</td>\n",
       "      <td>NO</td>\n",
       "    </tr>\n",
       "  </tbody>\n",
       "</table>\n",
       "<p>5 rows × 51 columns</p>\n",
       "</div>"
      ],
      "text/plain": [
       "   id  encounter_id  patient_nbr             race  gender      age    weight  \\\n",
       "0   1       2278392      8222157        Caucasian  Female   [0-10)  [75-100)   \n",
       "1   2        149190     55629189        Caucasian  Female  [10-20)  [75-100)   \n",
       "2   3         64410     86047875  AfricanAmerican  Female  [20-30)  [75-100)   \n",
       "3   4        500364     82442376        Caucasian    Male  [30-40)  [75-100)   \n",
       "4   5         16680     42519267        Caucasian    Male  [40-50)  [75-100)   \n",
       "\n",
       "   admission_type_id  discharge_disposition_id  admission_source_id  ...  \\\n",
       "0                  6                        25                    1  ...   \n",
       "1                  1                         1                    7  ...   \n",
       "2                  1                         1                    7  ...   \n",
       "3                  1                         1                    7  ...   \n",
       "4                  1                         1                    7  ...   \n",
       "\n",
       "   citoglipton insulin glyburide.metformin  glipizide.metformin  \\\n",
       "0           No      No                  No                   No   \n",
       "1           No      Up                  No                   No   \n",
       "2           No      No                  No                   No   \n",
       "3           No      Up                  No                   No   \n",
       "4           No  Steady                  No                   No   \n",
       "\n",
       "   glimepiride.pioglitazone  metformin.rosiglitazone  metformin.pioglitazone  \\\n",
       "0                        No                       No                      No   \n",
       "1                        No                       No                      No   \n",
       "2                        No                       No                      No   \n",
       "3                        No                       No                      No   \n",
       "4                        No                       No                      No   \n",
       "\n",
       "   change  diabetesMed readmitted  \n",
       "0      No           No         NO  \n",
       "1      Ch          Yes        >30  \n",
       "2      No          Yes         NO  \n",
       "3      Ch          Yes         NO  \n",
       "4      Ch          Yes         NO  \n",
       "\n",
       "[5 rows x 51 columns]"
      ]
     },
     "execution_count": 18,
     "metadata": {},
     "output_type": "execute_result"
    }
   ],
   "source": [
    "diabetes.head()"
   ]
  },
  {
   "cell_type": "markdown",
   "id": "1d66fab1",
   "metadata": {},
   "source": [
    "# We will then show the output value of the races in discending order."
   ]
  },
  {
   "cell_type": "code",
   "execution_count": 19,
   "id": "bdd48526",
   "metadata": {},
   "outputs": [
    {
     "name": "stdout",
     "output_type": "stream",
     "text": [
      "race\n",
      "Caucasian          77840\n",
      "AfricanAmerican    19622\n",
      "Hispanic            2094\n",
      "Other               1542\n",
      "Asian                668\n",
      "dtype: int64\n"
     ]
    }
   ],
   "source": [
    "df = diabetes.groupby([\"race\"]).size().sort_values(ascending = False)\n",
    "print(df)"
   ]
  },
  {
   "cell_type": "markdown",
   "id": "4c2a7452",
   "metadata": {},
   "source": [
    "# These lines of code sort these counts in descending order. This is useful to see the distribution of patients by race in the dataset."
   ]
  },
  {
   "cell_type": "code",
   "execution_count": 20,
   "id": "89477bc0",
   "metadata": {},
   "outputs": [],
   "source": [
    "# Calculating the counts for each race.\n",
    "\n",
    "Caucasian = diabetes.loc[diabetes[\"race\"]==\"Caucasian\"].count()[0]\n",
    "Afro_American = diabetes.loc[diabetes[\"race\"]==\"AfricanAmerican\"].count()[0]\n",
    "Hispanic = diabetes.loc[diabetes[\"race\"]==\"Hispanic\"].count()[0]\n",
    "Other = diabetes.loc[diabetes[\"race\"]==\"Other\"].count()[0]\n",
    "Asian = diabetes.loc[diabetes[\"race\"]==\"Asian\"].count()[0]\n"
   ]
  },
  {
   "cell_type": "markdown",
   "id": "6200992c",
   "metadata": {},
   "source": [
    "# Then we plot a bar plot with addin titles and labels then display the plot."
   ]
  },
  {
   "cell_type": "code",
   "execution_count": 21,
   "id": "574d257d",
   "metadata": {},
   "outputs": [
    {
     "data": {
      "text/plain": [
       "<BarContainer object of 5 artists>"
      ]
     },
     "execution_count": 21,
     "metadata": {},
     "output_type": "execute_result"
    },
    {
     "data": {
      "image/png": "[encoded data removed]",
      "text/plain": [
       "<Figure size 600x400 with 1 Axes>"
      ]
     },
     "metadata": {},
     "output_type": "display_data"
    }
   ],
   "source": [
    "labels = [\"Caucasian\", \"Afro-American\", \"Hispanic\", \"Other\", \"Asian\"]\n",
    "counts = [Caucasian, Afro_American, Hispanic, Other, Asian]  # Assuming you have defined these variables elsewhere\n",
    "\n",
    "# Plotting the bar graph\n",
    "fig, ax = plt.subplots(figsize=(6, 4))\n",
    "plt.bar(labels, counts, color='red')\n"
   ]
  },
  {
   "cell_type": "markdown",
   "id": "bb937cfa",
   "metadata": {},
   "source": [
    "# Group the gender values in a discending order"
   ]
  },
  {
   "cell_type": "code",
   "execution_count": 22,
   "id": "c5e03444",
   "metadata": {},
   "outputs": [
    {
     "name": "stdout",
     "output_type": "stream",
     "text": [
      "gender\n",
      "Female             54708\n",
      "Male               47055\n",
      "Unknown/Invalid        3\n",
      "dtype: int64\n"
     ]
    }
   ],
   "source": [
    "df = diabetes.groupby([\"gender\"]).size().sort_values(ascending = False)\n",
    "print (df)"
   ]
  },
  {
   "cell_type": "code",
   "execution_count": 23,
   "id": "65a1f08a",
   "metadata": {},
   "outputs": [],
   "source": [
    "# Calculating the counts for each gender.\n",
    "\n",
    "Male = diabetes.loc[diabetes[\"gender\"]==\"Male\"].count()[0]\n",
    "Female = diabetes.loc[diabetes[\"gender\"]==\"Female\"].count()[0]\n",
    "Other = diabetes.loc[diabetes[\"gender\"]==\"Other\"].count()[0]"
   ]
  },
  {
   "cell_type": "code",
   "execution_count": 24,
   "id": "e6cae20b",
   "metadata": {},
   "outputs": [
    {
     "data": {
      "image/png": "[encoded data removed]",
      "text/plain": [
       "<Figure size 500x500 with 1 Axes>"
      ]
     },
     "metadata": {},
     "output_type": "display_data"
    }
   ],
   "source": [
    "# Then we plot a bar plot with adding the labels,counts and the colors then display the plot.\n",
    "\n",
    "labels = [\"Male\", \"Female\", \"Other\"]\n",
    "counts = [Male, Female, Other]  \n",
    "colors = [\"grey\", \"red\", \"purple\"]\n",
    "\n",
    "# Plotting the bar graph\n",
    "fig, ax = plt.subplots(figsize=(5,5))\n",
    "plt.bar(labels, counts, color=colors)\n",
    "\n",
    "plt.xlabel('Gender')\n",
    "plt.ylabel('Count')\n",
    "plt.title('Diabetes Patients by Gender')\n",
    "plt.xticks(rotation=45) # improve readability\n",
    "plt.tight_layout()\n",
    "plt.show()"
   ]
  },
  {
   "cell_type": "code",
   "execution_count": 25,
   "id": "bf8ae6f6",
   "metadata": {},
   "outputs": [
    {
     "name": "stdout",
     "output_type": "stream",
     "text": [
      "age\n",
      "[0-10)        161\n",
      "[10-20)       691\n",
      "[20-30)      1657\n",
      "[30-40)      3775\n",
      "[40-50)      9685\n",
      "[50-60)     17256\n",
      "[60-70)     22483\n",
      "[70-80)     26068\n",
      "[80-90)     17197\n",
      "[90-100)     2793\n",
      "dtype: int64\n"
     ]
    }
   ],
   "source": [
    "df = diabetes.groupby([\"age\"]).size()\n",
    "print(df)"
   ]
  },
  {
   "cell_type": "code",
   "execution_count": 26,
   "id": "303c6513",
   "metadata": {},
   "outputs": [
    {
     "data": {
      "text/plain": [
       "age\n",
       "[0-10)      161\n",
       "[10-20)     691\n",
       "[20-30)    1657\n",
       "[30-40)    3775\n",
       "[40-50)    9685\n",
       "dtype: int64"
      ]
     },
     "execution_count": 26,
     "metadata": {},
     "output_type": "execute_result"
    }
   ],
   "source": [
    "df.head()"
   ]
  },
  {
   "cell_type": "code",
   "execution_count": 27,
   "id": "3ac1cb92",
   "metadata": {},
   "outputs": [],
   "source": [
    "df1 = pd.DataFrame(df)"
   ]
  },
  {
   "cell_type": "code",
   "execution_count": 28,
   "id": "d854c642",
   "metadata": {},
   "outputs": [],
   "source": [
    "df1.columns = [\"Count\"]"
   ]
  },
  {
   "cell_type": "code",
   "execution_count": 29,
   "id": "5bfa26ac",
   "metadata": {},
   "outputs": [],
   "source": [
    "df1[\"pct\"] = (df1[\"Count\"]/(df1[\"Count\"].sum()))*100\n"
   ]
  },
  {
   "cell_type": "code",
   "execution_count": 30,
   "id": "5a54f7fe",
   "metadata": {},
   "outputs": [
    {
     "data": {
      "text/plain": [
       "age\n",
       "[0-10)       0.158206\n",
       "[10-20)      0.679009\n",
       "[20-30)      1.628245\n",
       "[30-40)      3.709490\n",
       "[40-50)      9.516931\n",
       "[50-60)     16.956547\n",
       "[60-70)     22.092840\n",
       "[70-80)     25.615628\n",
       "[80-90)     16.898571\n",
       "[90-100)     2.744532\n",
       "Name: pct, dtype: float64"
      ]
     },
     "execution_count": 30,
     "metadata": {},
     "output_type": "execute_result"
    }
   ],
   "source": [
    "df1[\"pct\"]\n"
   ]
  },
  {
   "cell_type": "markdown",
   "id": "807fd02d",
   "metadata": {},
   "source": [
    "## This code will generate a line plot showing the percentage of diabetes patients by age group, with customized labels, title, and markers. Make sure to adjust the DataFrame df1 to match your actual data structure."
   ]
  },
  {
   "cell_type": "code",
   "execution_count": 31,
   "id": "8613fd72",
   "metadata": {},
   "outputs": [
    {
     "data": {
      "image/png": "[encoded data removed]",
      "text/plain": [
       "<Figure size 800x500 with 1 Axes>"
      ]
     },
     "metadata": {},
     "output_type": "display_data"
    }
   ],
   "source": [
    "plt.figure(figsize = [8,5], dpi = 100)\n",
    "\n",
    "plt.xlabel(\"Age Group --->\", fontdict = {\"fontname\": \"Comic Sans MS\", \"fontsize\": 15})  # to label the axis x and y\n",
    "plt.ylabel(\"Percentage of Patients --->\", fontdict = {\"fontname\": \"Comic Sans MS\", \"fontsize\": 15})\n",
    "\n",
    "plt.plot(df1[\"pct\"], label = \"Diabetes cases %\", color = \"blue\", linewidth = 3, marker = \"*\", markersize = 10)\n",
    "plt.title(\"Diabetes Patients Percentage by Age Group\", fontdict = {\"fontweight\": \"bold\"})\n",
    "\n",
    "plt.yticks([0,5,10,15,20,25,30,35,40,45,50])\n",
    "\n",
    "plt.legend()\n",
    "plt.show()"
   ]
  },
  {
   "cell_type": "code",
   "execution_count": 32,
   "id": "37c937ad",
   "metadata": {},
   "outputs": [],
   "source": [
    "time_in_hospital = pd.DataFrame(diabetes[\"time_in_hospital\"].groupby(diabetes[\"age\"]).mean())"
   ]
  },
  {
   "cell_type": "code",
   "execution_count": 33,
   "id": "9d0020cd",
   "metadata": {},
   "outputs": [
    {
     "data": {
      "text/html": [
       "<div>\n",
       "<style scoped>\n",
       "    .dataframe tbody tr th:only-of-type {\n",
       "        vertical-align: middle;\n",
       "    }\n",
       "\n",
       "    .dataframe tbody tr th {\n",
       "        vertical-align: top;\n",
       "    }\n",
       "\n",
       "    .dataframe thead th {\n",
       "        text-align: right;\n",
       "    }\n",
       "</style>\n",
       "<table border=\"1\" class=\"dataframe\">\n",
       "  <thead>\n",
       "    <tr style=\"text-align: right;\">\n",
       "      <th></th>\n",
       "      <th>time_in_hospital</th>\n",
       "    </tr>\n",
       "    <tr>\n",
       "      <th>age</th>\n",
       "      <th></th>\n",
       "    </tr>\n",
       "  </thead>\n",
       "  <tbody>\n",
       "    <tr>\n",
       "      <th>[0-10)</th>\n",
       "      <td>2.546584</td>\n",
       "    </tr>\n",
       "    <tr>\n",
       "      <th>[10-20)</th>\n",
       "      <td>3.191027</td>\n",
       "    </tr>\n",
       "    <tr>\n",
       "      <th>[20-30)</th>\n",
       "      <td>3.564876</td>\n",
       "    </tr>\n",
       "    <tr>\n",
       "      <th>[30-40)</th>\n",
       "      <td>3.799735</td>\n",
       "    </tr>\n",
       "    <tr>\n",
       "      <th>[40-50)</th>\n",
       "      <td>4.039649</td>\n",
       "    </tr>\n",
       "    <tr>\n",
       "      <th>[50-60)</th>\n",
       "      <td>4.125753</td>\n",
       "    </tr>\n",
       "    <tr>\n",
       "      <th>[60-70)</th>\n",
       "      <td>4.382244</td>\n",
       "    </tr>\n",
       "    <tr>\n",
       "      <th>[70-80)</th>\n",
       "      <td>4.590878</td>\n",
       "    </tr>\n",
       "    <tr>\n",
       "      <th>[80-90)</th>\n",
       "      <td>4.808629</td>\n",
       "    </tr>\n",
       "    <tr>\n",
       "      <th>[90-100)</th>\n",
       "      <td>4.755818</td>\n",
       "    </tr>\n",
       "  </tbody>\n",
       "</table>\n",
       "</div>"
      ],
      "text/plain": [
       "          time_in_hospital\n",
       "age                       \n",
       "[0-10)            2.546584\n",
       "[10-20)           3.191027\n",
       "[20-30)           3.564876\n",
       "[30-40)           3.799735\n",
       "[40-50)           4.039649\n",
       "[50-60)           4.125753\n",
       "[60-70)           4.382244\n",
       "[70-80)           4.590878\n",
       "[80-90)           4.808629\n",
       "[90-100)          4.755818"
      ]
     },
     "execution_count": 33,
     "metadata": {},
     "output_type": "execute_result"
    }
   ],
   "source": [
    "time_in_hospital"
   ]
  },
  {
   "cell_type": "code",
   "execution_count": 34,
   "id": "6c4a7aae",
   "metadata": {},
   "outputs": [],
   "source": [
    "list1 = list(time_in_hospital.index.values)\n",
    "list2 = list(time_in_hospital[\"time_in_hospital\"])"
   ]
  },
  {
   "cell_type": "code",
   "execution_count": 35,
   "id": "947cadf8",
   "metadata": {},
   "outputs": [
    {
     "data": {
      "text/plain": [
       "['[0-10)',\n",
       " '[10-20)',\n",
       " '[20-30)',\n",
       " '[30-40)',\n",
       " '[40-50)',\n",
       " '[50-60)',\n",
       " '[60-70)',\n",
       " '[70-80)',\n",
       " '[80-90)',\n",
       " '[90-100)']"
      ]
     },
     "execution_count": 35,
     "metadata": {},
     "output_type": "execute_result"
    }
   ],
   "source": [
    "list1"
   ]
  },
  {
   "cell_type": "code",
   "execution_count": 36,
   "id": "9bdcad04",
   "metadata": {},
   "outputs": [
    {
     "data": {
      "text/plain": [
       "[2.546583850931677,\n",
       " 3.191027496382055,\n",
       " 3.5648762824381413,\n",
       " 3.7997350993377483,\n",
       " 4.039648941662365,\n",
       " 4.125753361149745,\n",
       " 4.382244362407152,\n",
       " 4.590877704465245,\n",
       " 4.808629412106763,\n",
       " 4.755818116720373]"
      ]
     },
     "execution_count": 36,
     "metadata": {},
     "output_type": "execute_result"
    }
   ],
   "source": [
    "list2\n"
   ]
  },
  {
   "cell_type": "code",
   "execution_count": 37,
   "id": "7c532b35",
   "metadata": {},
   "outputs": [],
   "source": [
    "#This code will generate a line plot showing the average number of diagnoses by age group, \n",
    "# with customized labels, title, markers, and grid.\n",
    "\n",
    "num_diag = pd.DataFrame(diabetes[\"number_diagnoses\"].groupby(diabetes[\"age\"]).mean())\n",
    "l1 = list(num_diag.index.values)\n",
    "l2 = list(num_diag[\"number_diagnoses\"])\n"
   ]
  },
  {
   "cell_type": "code",
   "execution_count": 38,
   "id": "561d335d",
   "metadata": {},
   "outputs": [
    {
     "data": {
      "image/png": "[encoded data removed]",
      "text/plain": [
       "<Figure size 1400x700 with 1 Axes>"
      ]
     },
     "metadata": {},
     "output_type": "display_data"
    }
   ],
   "source": [
    "fig, ax = plt.subplots(figsize=(14, 7))\n",
    "\n",
    "bars = plt.bar(l1,l2, color = \"blue\")\n",
    "for p in ax.patches:\n",
    "    ax.text(p.get_x() + p.get_width()/2., p.get_height(), '{:.2f}'.format(p.get_height()), fontsize=11, ha='center', va='bottom')\n",
    "plt.ylabel(\"Average Number of Diagnoses ---->\", fontdict = {\"fontname\": \"Comic Sans MS\", \"fontsize\": 12})\n",
    "plt.xlabel(\"Age Group of Patients ---->\", fontdict = {\"fontname\": \"Comic Sans MS\", \"fontsize\": 12})\n",
    "\n",
    "plt.title(\"Average Number of Diagnoses by Diabetes Patients\", fontdict = {\"fontweight\": \"bold\"})\n",
    "\n",
    "plt.show()\n"
   ]
  },
  {
   "cell_type": "markdown",
   "id": "c2c2113a",
   "metadata": {},
   "source": [
    "Based on this graph it is evident that patients between the age of [80-90], are the ones that have a higher number of diabetes than all other individuals.\n",
    "\n"
   ]
  },
  {
   "cell_type": "code",
   "execution_count": 39,
   "id": "0c26fc95",
   "metadata": {},
   "outputs": [],
   "source": [
    "df = diabetes.groupby([\"insulin\"]).size().sort_values(ascending = False)\n"
   ]
  },
  {
   "cell_type": "code",
   "execution_count": 40,
   "id": "17b8e806",
   "metadata": {},
   "outputs": [],
   "source": [
    "Steady = diabetes.loc[diabetes[\"insulin\"]==\"Steady\"].count()[0]\n",
    "Down = diabetes.loc[diabetes[\"insulin\"]==\"Down\"].count()[0]\n",
    "Up = diabetes.loc[diabetes[\"insulin\"]==\"Up\"].count()[0]"
   ]
  },
  {
   "cell_type": "code",
   "execution_count": 41,
   "id": "255780b7",
   "metadata": {},
   "outputs": [
    {
     "data": {
      "image/png": "[encoded data removed]",
      "text/plain": [
       "<Figure size 600x400 with 1 Axes>"
      ]
     },
     "metadata": {},
     "output_type": "display_data"
    }
   ],
   "source": [
    "# Assuming you have values for Steady, Down, and Up\n",
    "Steady = 40\n",
    "Down = 30\n",
    "Up = 30\n",
    "\n",
    "labels = [\"Steady\", \"Down\", \"Up\"]\n",
    "values = [Steady, Down, Up]\n",
    "\n",
    "fig, ax = plt.subplots(figsize=(6, 4))\n",
    "\n",
    "plt.bar(labels, values)\n",
    "for p in ax.patches:\n",
    "        ax.text(p.get_x() + p.get_width()/2., p.get_height(), '%d' % int(p.get_height()), fontsize=11, ha='center', va='bottom')\n",
    "plt.title(\"Diabetes Patients by Insulin\", fontdict={\"fontweight\": \"bold\"})\n",
    "plt.xlabel(\"Insulin\")\n",
    "plt.ylabel(\"Patients\")\n",
    "plt.show()\n"
   ]
  },
  {
   "cell_type": "markdown",
   "id": "ee17e8f9",
   "metadata": {},
   "source": [
    "The above graph shows that Majority of patients have steady insulin level because  p\n",
    "atients who receive regular medical care and adhere to recommended diabetes management strategies, such as monitoring blood glucose levels, taking prescribed medications, and making lifestyle modifications, are more likely to achieve stable insulin levels. "
   ]
  },
  {
   "cell_type": "code",
   "execution_count": 42,
   "id": "9f7a0d1f",
   "metadata": {},
   "outputs": [],
   "source": [
    "df = diabetes.groupby([\"diabetesMed\"]).size().sort_values(ascending = False)\n"
   ]
  },
  {
   "cell_type": "code",
   "execution_count": 43,
   "id": "3bf75e10",
   "metadata": {},
   "outputs": [],
   "source": [
    "Yes = diabetes.loc[diabetes[\"diabetesMed\"]==\"Yes\"].count()[0]\n",
    "No = diabetes.loc[diabetes[\"diabetesMed\"]==\"No\"].count()[0]\n"
   ]
  },
  {
   "cell_type": "code",
   "execution_count": 44,
   "id": "af2bbcc8",
   "metadata": {},
   "outputs": [
    {
     "data": {
      "image/png": "[encoded data removed]",
      "text/plain": [
       "<Figure size 600x600 with 1 Axes>"
      ]
     },
     "metadata": {},
     "output_type": "display_data"
    }
   ],
   "source": [
    "plt.figure(figsize = [5,5], dpi = 120)\n",
    "labels = [\"Yes\", \"No\"]\n",
    "\n",
    "plt.pie([Yes, No], labels = labels, autopct = \"%0.2f%%\")\n",
    "plt.title(\"Diabetes Patients Taking Medicine\", fontdict = {\"fontweight\": \"bold\"})\n",
    "\n",
    "plt.legend()\n",
    "plt.show()\n"
   ]
  },
  {
   "cell_type": "markdown",
   "id": "9c0c2334",
   "metadata": {},
   "source": [
    "# 5.Feature Engineering"
   ]
  },
  {
   "cell_type": "code",
   "execution_count": 45,
   "id": "5556127f",
   "metadata": {},
   "outputs": [],
   "source": [
    "dataset_new = diabetes"
   ]
  },
  {
   "cell_type": "code",
   "execution_count": 46,
   "id": "fe23ee5c",
   "metadata": {},
   "outputs": [
    {
     "data": {
      "text/plain": [
       "id                              0\n",
       "encounter_id                    0\n",
       "patient_nbr                     0\n",
       "race                            0\n",
       "gender                          0\n",
       "age                             0\n",
       "weight                          0\n",
       "admission_type_id               0\n",
       "discharge_disposition_id        0\n",
       "admission_source_id             0\n",
       "time_in_hospital                0\n",
       "payer_code                  20446\n",
       "medical_specialty               0\n",
       "num_lab_procedures              0\n",
       "num_procedures                  0\n",
       "num_medications                 0\n",
       "number_outpatient               0\n",
       "number_emergency                0\n",
       "number_inpatient                0\n",
       "diag_1                          0\n",
       "diag_2                          1\n",
       "diag_3                          1\n",
       "number_diagnoses                0\n",
       "max_glu_serum                   0\n",
       "A1Cresult                       0\n",
       "metformin                       0\n",
       "repaglinide                     0\n",
       "nateglinide                     0\n",
       "chlorpropamide                  0\n",
       "glimepiride                     0\n",
       "acetohexamide                   0\n",
       "glipizide                       0\n",
       "glyburide                       0\n",
       "tolbutamide                     0\n",
       "pioglitazone                    0\n",
       "rosiglitazone                   0\n",
       "acarbose                        0\n",
       "miglitol                        0\n",
       "troglitazone                    0\n",
       "tolazamide                      0\n",
       "examide                         0\n",
       "citoglipton                     0\n",
       "insulin                         0\n",
       "glyburide.metformin             0\n",
       "glipizide.metformin             0\n",
       "glimepiride.pioglitazone        0\n",
       "metformin.rosiglitazone         0\n",
       "metformin.pioglitazone          0\n",
       "change                          0\n",
       "diabetesMed                     0\n",
       "readmitted                      0\n",
       "dtype: int64"
      ]
     },
     "execution_count": 46,
     "metadata": {},
     "output_type": "execute_result"
    }
   ],
   "source": [
    "dataset_new.isnull().sum()"
   ]
  },
  {
   "cell_type": "code",
   "execution_count": 47,
   "id": "d841764c",
   "metadata": {},
   "outputs": [
    {
     "data": {
      "text/html": [
       "<div>\n",
       "<style scoped>\n",
       "    .dataframe tbody tr th:only-of-type {\n",
       "        vertical-align: middle;\n",
       "    }\n",
       "\n",
       "    .dataframe tbody tr th {\n",
       "        vertical-align: top;\n",
       "    }\n",
       "\n",
       "    .dataframe thead th {\n",
       "        text-align: right;\n",
       "    }\n",
       "</style>\n",
       "<table border=\"1\" class=\"dataframe\">\n",
       "  <thead>\n",
       "    <tr style=\"text-align: right;\">\n",
       "      <th></th>\n",
       "      <th>count</th>\n",
       "      <th>mean</th>\n",
       "      <th>std</th>\n",
       "      <th>min</th>\n",
       "      <th>25%</th>\n",
       "      <th>50%</th>\n",
       "      <th>75%</th>\n",
       "      <th>max</th>\n",
       "    </tr>\n",
       "  </thead>\n",
       "  <tbody>\n",
       "    <tr>\n",
       "      <th>id</th>\n",
       "      <td>101766.0</td>\n",
       "      <td>5.088350e+04</td>\n",
       "      <td>2.937746e+04</td>\n",
       "      <td>1.0</td>\n",
       "      <td>25442.25</td>\n",
       "      <td>50883.5</td>\n",
       "      <td>7.632475e+04</td>\n",
       "      <td>101766.0</td>\n",
       "    </tr>\n",
       "    <tr>\n",
       "      <th>encounter_id</th>\n",
       "      <td>101766.0</td>\n",
       "      <td>1.652016e+08</td>\n",
       "      <td>1.026403e+08</td>\n",
       "      <td>12522.0</td>\n",
       "      <td>84961194.00</td>\n",
       "      <td>152388987.0</td>\n",
       "      <td>2.302709e+08</td>\n",
       "      <td>443867222.0</td>\n",
       "    </tr>\n",
       "    <tr>\n",
       "      <th>patient_nbr</th>\n",
       "      <td>101766.0</td>\n",
       "      <td>5.433040e+07</td>\n",
       "      <td>3.869636e+07</td>\n",
       "      <td>135.0</td>\n",
       "      <td>23413221.00</td>\n",
       "      <td>45505143.0</td>\n",
       "      <td>8.754595e+07</td>\n",
       "      <td>189502619.0</td>\n",
       "    </tr>\n",
       "    <tr>\n",
       "      <th>admission_type_id</th>\n",
       "      <td>101766.0</td>\n",
       "      <td>2.024006e+00</td>\n",
       "      <td>1.445403e+00</td>\n",
       "      <td>1.0</td>\n",
       "      <td>1.00</td>\n",
       "      <td>1.0</td>\n",
       "      <td>3.000000e+00</td>\n",
       "      <td>8.0</td>\n",
       "    </tr>\n",
       "    <tr>\n",
       "      <th>discharge_disposition_id</th>\n",
       "      <td>101766.0</td>\n",
       "      <td>3.715642e+00</td>\n",
       "      <td>5.280166e+00</td>\n",
       "      <td>1.0</td>\n",
       "      <td>1.00</td>\n",
       "      <td>1.0</td>\n",
       "      <td>4.000000e+00</td>\n",
       "      <td>28.0</td>\n",
       "    </tr>\n",
       "    <tr>\n",
       "      <th>admission_source_id</th>\n",
       "      <td>101766.0</td>\n",
       "      <td>5.754437e+00</td>\n",
       "      <td>4.064081e+00</td>\n",
       "      <td>1.0</td>\n",
       "      <td>1.00</td>\n",
       "      <td>7.0</td>\n",
       "      <td>7.000000e+00</td>\n",
       "      <td>25.0</td>\n",
       "    </tr>\n",
       "    <tr>\n",
       "      <th>time_in_hospital</th>\n",
       "      <td>101766.0</td>\n",
       "      <td>4.395987e+00</td>\n",
       "      <td>2.985108e+00</td>\n",
       "      <td>1.0</td>\n",
       "      <td>2.00</td>\n",
       "      <td>4.0</td>\n",
       "      <td>6.000000e+00</td>\n",
       "      <td>14.0</td>\n",
       "    </tr>\n",
       "    <tr>\n",
       "      <th>num_lab_procedures</th>\n",
       "      <td>101766.0</td>\n",
       "      <td>4.309564e+01</td>\n",
       "      <td>1.967436e+01</td>\n",
       "      <td>1.0</td>\n",
       "      <td>31.00</td>\n",
       "      <td>44.0</td>\n",
       "      <td>5.700000e+01</td>\n",
       "      <td>132.0</td>\n",
       "    </tr>\n",
       "    <tr>\n",
       "      <th>num_procedures</th>\n",
       "      <td>101766.0</td>\n",
       "      <td>1.339730e+00</td>\n",
       "      <td>1.705807e+00</td>\n",
       "      <td>0.0</td>\n",
       "      <td>0.00</td>\n",
       "      <td>1.0</td>\n",
       "      <td>2.000000e+00</td>\n",
       "      <td>6.0</td>\n",
       "    </tr>\n",
       "    <tr>\n",
       "      <th>num_medications</th>\n",
       "      <td>101766.0</td>\n",
       "      <td>1.602184e+01</td>\n",
       "      <td>8.127566e+00</td>\n",
       "      <td>1.0</td>\n",
       "      <td>10.00</td>\n",
       "      <td>15.0</td>\n",
       "      <td>2.000000e+01</td>\n",
       "      <td>81.0</td>\n",
       "    </tr>\n",
       "    <tr>\n",
       "      <th>number_outpatient</th>\n",
       "      <td>101766.0</td>\n",
       "      <td>3.693572e-01</td>\n",
       "      <td>1.267265e+00</td>\n",
       "      <td>0.0</td>\n",
       "      <td>0.00</td>\n",
       "      <td>0.0</td>\n",
       "      <td>0.000000e+00</td>\n",
       "      <td>42.0</td>\n",
       "    </tr>\n",
       "    <tr>\n",
       "      <th>number_emergency</th>\n",
       "      <td>101766.0</td>\n",
       "      <td>1.978362e-01</td>\n",
       "      <td>9.304723e-01</td>\n",
       "      <td>0.0</td>\n",
       "      <td>0.00</td>\n",
       "      <td>0.0</td>\n",
       "      <td>0.000000e+00</td>\n",
       "      <td>76.0</td>\n",
       "    </tr>\n",
       "    <tr>\n",
       "      <th>number_inpatient</th>\n",
       "      <td>101766.0</td>\n",
       "      <td>6.355659e-01</td>\n",
       "      <td>1.262863e+00</td>\n",
       "      <td>0.0</td>\n",
       "      <td>0.00</td>\n",
       "      <td>0.0</td>\n",
       "      <td>1.000000e+00</td>\n",
       "      <td>21.0</td>\n",
       "    </tr>\n",
       "    <tr>\n",
       "      <th>number_diagnoses</th>\n",
       "      <td>101766.0</td>\n",
       "      <td>7.422607e+00</td>\n",
       "      <td>1.933600e+00</td>\n",
       "      <td>1.0</td>\n",
       "      <td>6.00</td>\n",
       "      <td>8.0</td>\n",
       "      <td>9.000000e+00</td>\n",
       "      <td>16.0</td>\n",
       "    </tr>\n",
       "  </tbody>\n",
       "</table>\n",
       "</div>"
      ],
      "text/plain": [
       "                             count          mean           std      min  \\\n",
       "id                        101766.0  5.088350e+04  2.937746e+04      1.0   \n",
       "encounter_id              101766.0  1.652016e+08  1.026403e+08  12522.0   \n",
       "patient_nbr               101766.0  5.433040e+07  3.869636e+07    135.0   \n",
       "admission_type_id         101766.0  2.024006e+00  1.445403e+00      1.0   \n",
       "discharge_disposition_id  101766.0  3.715642e+00  5.280166e+00      1.0   \n",
       "admission_source_id       101766.0  5.754437e+00  4.064081e+00      1.0   \n",
       "time_in_hospital          101766.0  4.395987e+00  2.985108e+00      1.0   \n",
       "num_lab_procedures        101766.0  4.309564e+01  1.967436e+01      1.0   \n",
       "num_procedures            101766.0  1.339730e+00  1.705807e+00      0.0   \n",
       "num_medications           101766.0  1.602184e+01  8.127566e+00      1.0   \n",
       "number_outpatient         101766.0  3.693572e-01  1.267265e+00      0.0   \n",
       "number_emergency          101766.0  1.978362e-01  9.304723e-01      0.0   \n",
       "number_inpatient          101766.0  6.355659e-01  1.262863e+00      0.0   \n",
       "number_diagnoses          101766.0  7.422607e+00  1.933600e+00      1.0   \n",
       "\n",
       "                                  25%          50%           75%          max  \n",
       "id                           25442.25      50883.5  7.632475e+04     101766.0  \n",
       "encounter_id              84961194.00  152388987.0  2.302709e+08  443867222.0  \n",
       "patient_nbr               23413221.00   45505143.0  8.754595e+07  189502619.0  \n",
       "admission_type_id                1.00          1.0  3.000000e+00          8.0  \n",
       "discharge_disposition_id         1.00          1.0  4.000000e+00         28.0  \n",
       "admission_source_id              1.00          7.0  7.000000e+00         25.0  \n",
       "time_in_hospital                 2.00          4.0  6.000000e+00         14.0  \n",
       "num_lab_procedures              31.00         44.0  5.700000e+01        132.0  \n",
       "num_procedures                   0.00          1.0  2.000000e+00          6.0  \n",
       "num_medications                 10.00         15.0  2.000000e+01         81.0  \n",
       "number_outpatient                0.00          0.0  0.000000e+00         42.0  \n",
       "number_emergency                 0.00          0.0  0.000000e+00         76.0  \n",
       "number_inpatient                 0.00          0.0  1.000000e+00         21.0  \n",
       "number_diagnoses                 6.00          8.0  9.000000e+00         16.0  "
      ]
     },
     "execution_count": 47,
     "metadata": {},
     "output_type": "execute_result"
    }
   ],
   "source": [
    "dataset_new.describe().T"
   ]
  },
  {
   "cell_type": "code",
   "execution_count": 48,
   "id": "3a981d0d",
   "metadata": {},
   "outputs": [
    {
     "name": "stderr",
     "output_type": "stream",
     "text": [
      "c:\\Users\\Zinhle\\anaconda3\\Lib\\site-packages\\pandas\\util\\_decorators.py:311: SettingWithCopyWarning: \n",
      "A value is trying to be set on a copy of a slice from a DataFrame\n",
      "\n",
      "See the caveats in the documentation: https://pandas.pydata.org/pandas-docs/stable/user_guide/indexing.html#returning-a-view-versus-a-copy\n",
      "  return func(*args, **kwargs)\n"
     ]
    }
   ],
   "source": [
    "from sklearn.preprocessing import MinMaxScaler\n",
    "\n",
    "# Assuming dataset_new is your DataFrame containing the data\n",
    "# Step 1: Exclude non-numeric columns\n",
    "numeric_columns = dataset_new.select_dtypes(include=['number'])\n",
    "\n",
    "# Step 2: Handle missing values\n",
    "numeric_columns.dropna(inplace=True)  # Remove rows with missing values\n",
    "\n",
    "# Step 3: Scale the data\n",
    "scaler = MinMaxScaler(feature_range=(0, 1))\n",
    "dataset_scaled = scaler.fit_transform(numeric_columns)\n",
    "\n"
   ]
  },
  {
   "cell_type": "code",
   "execution_count": 49,
   "id": "7cc0599e",
   "metadata": {},
   "outputs": [
    {
     "name": "stdout",
     "output_type": "stream",
     "text": [
      "Shape of dataset_scaled: (101766, 14)\n",
      "Columns in dataset_new: Index(['id', 'encounter_id', 'patient_nbr', 'race', 'gender', 'age', 'weight',\n",
      "       'admission_type_id', 'discharge_disposition_id', 'admission_source_id',\n",
      "       'time_in_hospital', 'payer_code', 'medical_specialty',\n",
      "       'num_lab_procedures', 'num_procedures', 'num_medications',\n",
      "       'number_outpatient', 'number_emergency', 'number_inpatient', 'diag_1',\n",
      "       'diag_2', 'diag_3', 'number_diagnoses', 'max_glu_serum', 'A1Cresult',\n",
      "       'metformin', 'repaglinide', 'nateglinide', 'chlorpropamide',\n",
      "       'glimepiride', 'acetohexamide', 'glipizide', 'glyburide', 'tolbutamide',\n",
      "       'pioglitazone', 'rosiglitazone', 'acarbose', 'miglitol', 'troglitazone',\n",
      "       'tolazamide', 'examide', 'citoglipton', 'insulin',\n",
      "       'glyburide.metformin', 'glipizide.metformin',\n",
      "       'glimepiride.pioglitazone', 'metformin.rosiglitazone',\n",
      "       'metformin.pioglitazone', 'change', 'diabetesMed', 'readmitted'],\n",
      "      dtype='object')\n"
     ]
    }
   ],
   "source": [
    "print(\"Shape of dataset_scaled:\", dataset_scaled.shape)\n",
    "\n",
    "# Compare the columns in dataset_new with the columns in dataset_scaled_df\n",
    "print(\"Columns in dataset_new:\", dataset_new.columns)"
   ]
  },
  {
   "cell_type": "code",
   "execution_count": 50,
   "id": "245d5eef",
   "metadata": {},
   "outputs": [],
   "source": [
    "X = dataset_scaled[:, [1, 4, 5, 7]]\n",
    "Y = dataset_scaled[:, 8]\n"
   ]
  },
  {
   "cell_type": "code",
   "execution_count": 51,
   "id": "60b24a34",
   "metadata": {},
   "outputs": [],
   "source": [
    "from sklearn.model_selection import train_test_split\n",
    "\n",
    "# Splitting the dataset into the Training set and Test set\n",
    "X_train, X_test, Y_train, Y_test = train_test_split(X, Y, test_size=0.20, random_state=42, stratify=dataset_new['readmitted'])\n"
   ]
  },
  {
   "cell_type": "code",
   "execution_count": 52,
   "id": "4398d9d8",
   "metadata": {},
   "outputs": [
    {
     "name": "stdout",
     "output_type": "stream",
     "text": [
      "X_train shape: (81412, 4)\n",
      "X_test shape: (20354, 4)\n",
      "Y_train shape: (81412,)\n",
      "Y_test shape: (20354,)\n"
     ]
    }
   ],
   "source": [
    "# Checking dimensions\n",
    "print(\"X_train shape:\", X_train.shape)\n",
    "print(\"X_test shape:\", X_test.shape)\n",
    "print(\"Y_train shape:\", Y_train.shape)\n",
    "print(\"Y_test shape:\", Y_test.shape)"
   ]
  },
  {
   "cell_type": "markdown",
   "id": "e988fa55",
   "metadata": {},
   "source": [
    "# 6.Modelling"
   ]
  },
  {
   "cell_type": "code",
   "execution_count": 53,
   "id": "adb5faf1",
   "metadata": {},
   "outputs": [
    {
     "name": "stdout",
     "output_type": "stream",
     "text": [
      "[0.         0.16666667 0.33333333 0.5        0.66666667 0.83333333\n",
      " 1.        ]\n"
     ]
    }
   ],
   "source": [
    "\n",
    "# This function from the NumPy library finds all the unique values in the Y_train array. \n",
    "# Assuming Y_train is your NumPy array\n",
    "unique_values = np.unique(Y_train)\n",
    "print(unique_values)\n"
   ]
  },
  {
   "cell_type": "code",
   "execution_count": 54,
   "id": "8af179f3",
   "metadata": {},
   "outputs": [],
   "source": [
    "# Assuming Y_train is your target variable\n",
    "threshold = 0.5\n",
    "Y_train_binary = (Y_train > threshold).astype(int)\n"
   ]
  },
  {
   "cell_type": "code",
   "execution_count": 55,
   "id": "c696511d",
   "metadata": {},
   "outputs": [],
   "source": [
    "\n",
    "# Convert Y_train to DataFrame\n",
    "Y_train_df = pd.DataFrame(Y_train, columns=['target'])\n",
    "\n",
    "# Perform one-hot encoding\n",
    "Y_train_encoded = pd.get_dummies(Y_train_df['target'])\n"
   ]
  },
  {
   "cell_type": "code",
   "execution_count": 56,
   "id": "2dbd3e71",
   "metadata": {},
   "outputs": [
    {
     "name": "stdout",
     "output_type": "stream",
     "text": [
      "Shape of X_train: (81412, 4)\n",
      "Shape of Y_train_encoded: (81412, 7)\n"
     ]
    }
   ],
   "source": [
    "print(\"Shape of X_train:\", X_train.shape)\n",
    "print(\"Shape of Y_train_encoded:\", Y_train_encoded.shape)\n"
   ]
  },
  {
   "cell_type": "code",
   "execution_count": 57,
   "id": "8497f6c3",
   "metadata": {},
   "outputs": [
    {
     "ename": "NameError",
     "evalue": "name 'LogisticRegression' is not defined",
     "output_type": "error",
     "traceback": [
      "\u001b[1;31m---------------------------------------------------------------------------\u001b[0m",
      "\u001b[1;31mNameError\u001b[0m                                 Traceback (most recent call last)",
      "Cell \u001b[1;32mIn[57], line 2\u001b[0m\n\u001b[0;32m      1\u001b[0m \u001b[38;5;66;03m# logreg = LogisticRegression(random_state=42, multi_class='multinomial')  # Specify multi_class='multinomial' or 'ovr'\u001b[39;00m\n\u001b[1;32m----> 2\u001b[0m logreg \u001b[38;5;241m=\u001b[39m LogisticRegression(random_state\u001b[38;5;241m=\u001b[39m\u001b[38;5;241m42\u001b[39m, multi_class\u001b[38;5;241m=\u001b[39m\u001b[38;5;124m'\u001b[39m\u001b[38;5;124mmultinomial\u001b[39m\u001b[38;5;124m'\u001b[39m)\n",
      "\u001b[1;31mNameError\u001b[0m: name 'LogisticRegression' is not defined"
     ]
    }
   ],
   "source": [
    "# logreg = LogisticRegression(random_state=42, multi_class='multinomial')  # Specify multi_class='multinomial' or 'ovr'\n",
    "logreg = LogisticRegression(random_state=42, multi_class='multinomial')\n"
   ]
  },
  {
   "cell_type": "code",
   "execution_count": null,
   "id": "b6a7291e",
   "metadata": {},
   "outputs": [
    {
     "ename": "NameError",
     "evalue": "name 'logreg' is not defined",
     "output_type": "error",
     "traceback": [
      "\u001b[1;31m---------------------------------------------------------------------------\u001b[0m",
      "\u001b[1;31mNameError\u001b[0m                                 Traceback (most recent call last)",
      "Cell \u001b[1;32mIn[75], line 2\u001b[0m\n\u001b[0;32m      1\u001b[0m \u001b[38;5;66;03m# Make predictions on test data\u001b[39;00m\n\u001b[1;32m----> 2\u001b[0m X_pred \u001b[38;5;241m=\u001b[39m logreg\u001b[38;5;241m.\u001b[39mpredict(X_test)\n",
      "\u001b[1;31mNameError\u001b[0m: name 'logreg' is not defined"
     ]
    }
   ],
   "source": [
    "# Make predictions on test data\n",
    "Y_pred = logreg.predict(X_test)  # Assuming X_test is your test feature matrix\n"
   ]
  },
  {
   "cell_type": "code",
   "execution_count": null,
   "id": "c100066b",
   "metadata": {},
   "outputs": [
    {
     "ename": "NameError",
     "evalue": "name 'Y_test_discrete' is not defined",
     "output_type": "error",
     "traceback": [
      "\u001b[1;31m---------------------------------------------------------------------------\u001b[0m",
      "\u001b[1;31mNameError\u001b[0m                                 Traceback (most recent call last)",
      "Cell \u001b[1;32mIn[70], line 2\u001b[0m\n\u001b[0;32m      1\u001b[0m \u001b[38;5;66;03m# Check the unique values in Y_test_discrete and Y_pred\u001b[39;00m\n\u001b[1;32m----> 2\u001b[0m \u001b[38;5;28mprint\u001b[39m(\u001b[38;5;124m\"\u001b[39m\u001b[38;5;124mUnique values in Y_test_discrete:\u001b[39m\u001b[38;5;124m\"\u001b[39m, np\u001b[38;5;241m.\u001b[39munique(Y_test_discrete))\n\u001b[0;32m      3\u001b[0m \u001b[38;5;28mprint\u001b[39m(\u001b[38;5;124m\"\u001b[39m\u001b[38;5;124mUnique values in Y_pred:\u001b[39m\u001b[38;5;124m\"\u001b[39m, np\u001b[38;5;241m.\u001b[39munique(Y_pred))\n",
      "\u001b[1;31mNameError\u001b[0m: name 'Y_test_discrete' is not defined"
     ]
    }
   ],
   "source": [
    "# Check the unique values in Y_test_discrete and Y_pred\n",
    "print(\"Unique values in Y_test_discrete:\", np.unique(Y_test_discrete))\n",
    "print(\"Unique values in Y_pred:\", np.unique(Y_pred))\n"
   ]
  },
  {
   "cell_type": "code",
   "execution_count": null,
   "id": "c2aa611f",
   "metadata": {},
   "outputs": [
    {
     "ename": "NameError",
     "evalue": "name 'Y_pred' is not defined",
     "output_type": "error",
     "traceback": [
      "\u001b[1;31m---------------------------------------------------------------------------\u001b[0m",
      "\u001b[1;31mNameError\u001b[0m                                 Traceback (most recent call last)",
      "Cell \u001b[1;32mIn[71], line 14\u001b[0m\n\u001b[0;32m     11\u001b[0m Y_test_discrete_adjusted \u001b[38;5;241m=\u001b[39m np\u001b[38;5;241m.\u001b[39mdigitize(Y_test, bins\u001b[38;5;241m=\u001b[39madjusted_thresholds)\n\u001b[0;32m     13\u001b[0m \u001b[38;5;66;03m# Compute the accuracy score using the adjusted Y_test_discrete and Y_pred\u001b[39;00m\n\u001b[1;32m---> 14\u001b[0m accuracy_adjusted \u001b[38;5;241m=\u001b[39m accuracy_score(Y_test_discrete_adjusted, Y_pred)\n\u001b[0;32m     15\u001b[0m \u001b[38;5;28mprint\u001b[39m(\u001b[38;5;124m\"\u001b[39m\u001b[38;5;124mAdjusted Accuracy:\u001b[39m\u001b[38;5;124m\"\u001b[39m, accuracy_adjusted)\n",
      "\u001b[1;31mNameError\u001b[0m: name 'Y_pred' is not defined"
     ]
    }
   ],
   "source": [
    "import numpy as np\n",
    "from sklearn.metrics import accuracy_score\n",
    "\n",
    "# Define the number of bins\n",
    "num_bins = 5\n",
    "\n",
    "# Adjust the thresholds to cover the unique values in both arrays\n",
    "adjusted_thresholds = np.linspace(0, 4, num_bins + 1)[1:-1]\n",
    "\n",
    "# Discretize Y_test again using the adjusted thresholds\n",
    "Y_test_discrete_adjusted = np.digitize(Y_test, bins=adjusted_thresholds)\n",
    "\n",
    "# Compute the accuracy score using the adjusted Y_test_discrete and Y_pred\n",
    "accuracy_adjusted = accuracy_score(Y_test_discrete_adjusted, Y_pred)\n",
    "print(\"Adjusted Accuracy:\", accuracy_adjusted)"
   ]
  },
  {
   "cell_type": "markdown",
   "id": "9d9cae89",
   "metadata": {},
   "source": []
  },
  {
   "cell_type": "markdown",
   "id": "1cc3a8f6",
   "metadata": {},
   "source": [
    "Based on this it can be concluded, approximately 92.2% of the labels in the test set were predicted correctly by your model."
   ]
  },
  {
   "cell_type": "code",
   "execution_count": null,
   "id": "58c6167f",
   "metadata": {},
   "outputs": [
    {
     "ename": "NameError",
     "evalue": "name 'Y_pred' is not defined",
     "output_type": "error",
     "traceback": [
      "\u001b[1;31m---------------------------------------------------------------------------\u001b[0m",
      "\u001b[1;31mNameError\u001b[0m                                 Traceback (most recent call last)",
      "Cell \u001b[1;32mIn[72], line 3\u001b[0m\n\u001b[0;32m      1\u001b[0m \u001b[38;5;28;01mfrom\u001b[39;00m \u001b[38;5;21;01msklearn\u001b[39;00m\u001b[38;5;21;01m.\u001b[39;00m\u001b[38;5;21;01mmetrics\u001b[39;00m \u001b[38;5;28;01mimport\u001b[39;00m precision_score\n\u001b[1;32m----> 3\u001b[0m precision \u001b[38;5;241m=\u001b[39m precision_score(Y_test_discrete_adjusted, Y_pred, average\u001b[38;5;241m=\u001b[39m\u001b[38;5;124m'\u001b[39m\u001b[38;5;124mweighted\u001b[39m\u001b[38;5;124m'\u001b[39m)\n\u001b[0;32m      4\u001b[0m \u001b[38;5;28mprint\u001b[39m(\u001b[38;5;124m\"\u001b[39m\u001b[38;5;124mPrecision:\u001b[39m\u001b[38;5;124m\"\u001b[39m, precision)\n",
      "\u001b[1;31mNameError\u001b[0m: name 'Y_pred' is not defined"
     ]
    }
   ],
   "source": [
    "from sklearn.metrics import precision_score\n",
    "\n",
    "precision = precision_score(Y_test_discrete_adjusted, Y_pred, average='weighted')\n",
    "print(\"Precision:\", precision)"
   ]
  },
  {
   "cell_type": "code",
   "execution_count": null,
   "id": "b4a1b166",
   "metadata": {},
   "outputs": [
    {
     "ename": "NameError",
     "evalue": "name 'Y_pred' is not defined",
     "output_type": "error",
     "traceback": [
      "\u001b[1;31m---------------------------------------------------------------------------\u001b[0m",
      "\u001b[1;31mNameError\u001b[0m                                 Traceback (most recent call last)",
      "Cell \u001b[1;32mIn[73], line 3\u001b[0m\n\u001b[0;32m      1\u001b[0m \u001b[38;5;28;01mfrom\u001b[39;00m \u001b[38;5;21;01msklearn\u001b[39;00m\u001b[38;5;21;01m.\u001b[39;00m\u001b[38;5;21;01mmetrics\u001b[39;00m \u001b[38;5;28;01mimport\u001b[39;00m recall_score\n\u001b[1;32m----> 3\u001b[0m recall \u001b[38;5;241m=\u001b[39m recall_score(Y_test_discrete_adjusted, Y_pred, average\u001b[38;5;241m=\u001b[39m\u001b[38;5;124m'\u001b[39m\u001b[38;5;124mweighted\u001b[39m\u001b[38;5;124m'\u001b[39m)\n\u001b[0;32m      4\u001b[0m \u001b[38;5;28mprint\u001b[39m(\u001b[38;5;124m\"\u001b[39m\u001b[38;5;124mRecall:\u001b[39m\u001b[38;5;124m\"\u001b[39m, recall)\n",
      "\u001b[1;31mNameError\u001b[0m: name 'Y_pred' is not defined"
     ]
    }
   ],
   "source": [
    "from sklearn.metrics import recall_score\n",
    "\n",
    "recall = recall_score(Y_test_discrete_adjusted, Y_pred, average='weighted')\n",
    "print(\"Recall:\", recall)\n"
   ]
  },
  {
   "cell_type": "code",
   "execution_count": null,
   "id": "ccefa93c",
   "metadata": {},
   "outputs": [
    {
     "ename": "NameError",
     "evalue": "name 'Y_pred' is not defined",
     "output_type": "error",
     "traceback": [
      "\u001b[1;31m---------------------------------------------------------------------------\u001b[0m",
      "\u001b[1;31mNameError\u001b[0m                                 Traceback (most recent call last)",
      "Cell \u001b[1;32mIn[74], line 3\u001b[0m\n\u001b[0;32m      1\u001b[0m \u001b[38;5;28;01mfrom\u001b[39;00m \u001b[38;5;21;01msklearn\u001b[39;00m\u001b[38;5;21;01m.\u001b[39;00m\u001b[38;5;21;01mmetrics\u001b[39;00m \u001b[38;5;28;01mimport\u001b[39;00m f1_score\n\u001b[1;32m----> 3\u001b[0m f1 \u001b[38;5;241m=\u001b[39m f1_score(Y_test_discrete_adjusted, Y_pred, average\u001b[38;5;241m=\u001b[39m\u001b[38;5;124m'\u001b[39m\u001b[38;5;124mweighted\u001b[39m\u001b[38;5;124m'\u001b[39m)\n\u001b[0;32m      4\u001b[0m \u001b[38;5;28mprint\u001b[39m(\u001b[38;5;124m\"\u001b[39m\u001b[38;5;124mF1 Score:\u001b[39m\u001b[38;5;124m\"\u001b[39m, f1)\n",
      "\u001b[1;31mNameError\u001b[0m: name 'Y_pred' is not defined"
     ]
    }
   ],
   "source": [
    "from sklearn.metrics import f1_score\n",
    "\n",
    "f1 = f1_score(Y_test_discrete_adjusted, Y_pred, average='weighted')\n",
    "print(\"F1 Score:\", f1)\n"
   ]
  },
  {
   "cell_type": "markdown",
   "id": "aef33486",
   "metadata": {},
   "source": [
    "An F1 score of 0.885 means that the model achieves a balanced performance in terms of precision and recall.\n"
   ]
  },
  {
   "cell_type": "markdown",
   "id": "f70fb359",
   "metadata": {},
   "source": [
    "# 7.Conclusion"
   ]
  },
  {
   "cell_type": "markdown",
   "id": "1a217b1b",
   "metadata": {},
   "source": []
  },
  {
   "cell_type": "markdown",
   "id": "b7fe2c4a",
   "metadata": {},
   "source": [
    "# 8.References\n"
   ]
  },
  {
   "cell_type": "markdown",
   "id": "c82acef9",
   "metadata": {},
   "source": [
    "1.T. M. Alama, M. A. Iqbala, Y. Ali et al., “A Model for Early Prediction of Diabetes,” Informatics in Medicine Unlocked, vol. 16, Article ID 100204, 2019.\n",
    "View at: Publisher Site | Google Scholar\n",
    "\n",
    "2.M. A. Sarwar, N. Kamal, W. Hamid, and M. A. Shah, “Prediction of Diabetes Using Machine Learning Algorithms in Healthcare,” in Proceedings of the 2018 24th International Conference on Automation and Computing (ICAC), Newcastle upon Tyne, UK, September 2018.\n",
    "View at: Google Scholar\n",
    "\n",
    "3.A. Mahabub, “A Robust Voting Approach for Diabetes Prediction Using Traditional Machine Learning Techniques,” SN Applied Sciences, Springer, 2019.\n",
    "View at: Google Scholar\n",
    "\n",
    "4.M. M. Bukhari, B. F. Alkhamees, S. Hussain, A. Gumaei, A. Assiri, and S. S. Ullah, “An improved artificial neural network model for effective dia- betes prediction,” Complexity, vol. 2021, Article ID 5525271, 10 pages, 2021.\n",
    "\n",
    "View at: Publisher Site | Google Scholar\n"
   ]
  }
 ],
 "metadata": {
  "kernelspec": {
   "display_name": "Python 3 (ipykernel)",
   "language": "python",
   "name": "python3"
  },
  "language_info": {
   "codemirror_mode": {
    "name": "ipython",
    "version": 3
   },
   "file_extension": ".py",
   "mimetype": "text/x-python",
   "name": "python",
   "nbconvert_exporter": "python",
   "pygments_lexer": "ipython3",
   "version": "3.11.5"
  }
 },
 "nbformat": 4,
 "nbformat_minor": 5
}
